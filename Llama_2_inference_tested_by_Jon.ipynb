{
 "nbformat": 4,
 "nbformat_minor": 0,
 "metadata": {
  "colab": {
   "provenance": [],
   "gpuType": "T4"
  },
  "kernelspec": {
   "name": "python3",
   "display_name": "Python 3 (ipykernel)",
   "language": "python"
  },
  "language_info": {
   "name": "python"
  },
  "accelerator": "GPU",
  "widgets": {
   "application/vnd.jupyter.widget-state+json": {
    "e186a833241d4e60a559fb2ec25bd8a3": {
     "model_module": "@jupyter-widgets/controls",
     "model_name": "HBoxModel",
     "model_module_version": "1.5.0",
     "state": {
      "_dom_classes": [],
      "_model_module": "@jupyter-widgets/controls",
      "_model_module_version": "1.5.0",
      "_model_name": "HBoxModel",
      "_view_count": null,
      "_view_module": "@jupyter-widgets/controls",
      "_view_module_version": "1.5.0",
      "_view_name": "HBoxView",
      "box_style": "",
      "children": [
       "IPY_MODEL_489eec7185d9410aa8de92308497ac67",
       "IPY_MODEL_c7037b81c284406a8e69a547128a7cfc",
       "IPY_MODEL_32dce231f3a04a488bb972b0bd11eec7"
      ],
      "layout": "IPY_MODEL_51d0a4a0549744bc947249aca211b73a"
     }
    },
    "489eec7185d9410aa8de92308497ac67": {
     "model_module": "@jupyter-widgets/controls",
     "model_name": "HTMLModel",
     "model_module_version": "1.5.0",
     "state": {
      "_dom_classes": [],
      "_model_module": "@jupyter-widgets/controls",
      "_model_module_version": "1.5.0",
      "_model_name": "HTMLModel",
      "_view_count": null,
      "_view_module": "@jupyter-widgets/controls",
      "_view_module_version": "1.5.0",
      "_view_name": "HTMLView",
      "description": "",
      "description_tooltip": null,
      "layout": "IPY_MODEL_10a51694c44c4aff8d47ec813973d3ae",
      "placeholder": "​",
      "style": "IPY_MODEL_408cd65137184e8c8ee880d9cb308341",
      "value": "llama-2-13b-chat.ggmlv3.q5_1.bin: 100%"
     }
    },
    "c7037b81c284406a8e69a547128a7cfc": {
     "model_module": "@jupyter-widgets/controls",
     "model_name": "FloatProgressModel",
     "model_module_version": "1.5.0",
     "state": {
      "_dom_classes": [],
      "_model_module": "@jupyter-widgets/controls",
      "_model_module_version": "1.5.0",
      "_model_name": "FloatProgressModel",
      "_view_count": null,
      "_view_module": "@jupyter-widgets/controls",
      "_view_module_version": "1.5.0",
      "_view_name": "ProgressView",
      "bar_style": "success",
      "description": "",
      "description_tooltip": null,
      "layout": "IPY_MODEL_eb4d129c876647d79faf85bcc9ce3afc",
      "max": 9763701888,
      "min": 0,
      "orientation": "horizontal",
      "style": "IPY_MODEL_d9b5920291b743b69f1470432a2b79c8",
      "value": 9763701888
     }
    },
    "32dce231f3a04a488bb972b0bd11eec7": {
     "model_module": "@jupyter-widgets/controls",
     "model_name": "HTMLModel",
     "model_module_version": "1.5.0",
     "state": {
      "_dom_classes": [],
      "_model_module": "@jupyter-widgets/controls",
      "_model_module_version": "1.5.0",
      "_model_name": "HTMLModel",
      "_view_count": null,
      "_view_module": "@jupyter-widgets/controls",
      "_view_module_version": "1.5.0",
      "_view_name": "HTMLView",
      "description": "",
      "description_tooltip": null,
      "layout": "IPY_MODEL_a2d1bdd05a8f4283942fdfe1e6e8bbc0",
      "placeholder": "​",
      "style": "IPY_MODEL_1959c1cfebb14ad683cc3c41a8a4a5f7",
      "value": " 9.76G/9.76G [01:26&lt;00:00, 242MB/s]"
     }
    },
    "51d0a4a0549744bc947249aca211b73a": {
     "model_module": "@jupyter-widgets/base",
     "model_name": "LayoutModel",
     "model_module_version": "1.2.0",
     "state": {
      "_model_module": "@jupyter-widgets/base",
      "_model_module_version": "1.2.0",
      "_model_name": "LayoutModel",
      "_view_count": null,
      "_view_module": "@jupyter-widgets/base",
      "_view_module_version": "1.2.0",
      "_view_name": "LayoutView",
      "align_content": null,
      "align_items": null,
      "align_self": null,
      "border": null,
      "bottom": null,
      "display": null,
      "flex": null,
      "flex_flow": null,
      "grid_area": null,
      "grid_auto_columns": null,
      "grid_auto_flow": null,
      "grid_auto_rows": null,
      "grid_column": null,
      "grid_gap": null,
      "grid_row": null,
      "grid_template_areas": null,
      "grid_template_columns": null,
      "grid_template_rows": null,
      "height": null,
      "justify_content": null,
      "justify_items": null,
      "left": null,
      "margin": null,
      "max_height": null,
      "max_width": null,
      "min_height": null,
      "min_width": null,
      "object_fit": null,
      "object_position": null,
      "order": null,
      "overflow": null,
      "overflow_x": null,
      "overflow_y": null,
      "padding": null,
      "right": null,
      "top": null,
      "visibility": null,
      "width": null
     }
    },
    "10a51694c44c4aff8d47ec813973d3ae": {
     "model_module": "@jupyter-widgets/base",
     "model_name": "LayoutModel",
     "model_module_version": "1.2.0",
     "state": {
      "_model_module": "@jupyter-widgets/base",
      "_model_module_version": "1.2.0",
      "_model_name": "LayoutModel",
      "_view_count": null,
      "_view_module": "@jupyter-widgets/base",
      "_view_module_version": "1.2.0",
      "_view_name": "LayoutView",
      "align_content": null,
      "align_items": null,
      "align_self": null,
      "border": null,
      "bottom": null,
      "display": null,
      "flex": null,
      "flex_flow": null,
      "grid_area": null,
      "grid_auto_columns": null,
      "grid_auto_flow": null,
      "grid_auto_rows": null,
      "grid_column": null,
      "grid_gap": null,
      "grid_row": null,
      "grid_template_areas": null,
      "grid_template_columns": null,
      "grid_template_rows": null,
      "height": null,
      "justify_content": null,
      "justify_items": null,
      "left": null,
      "margin": null,
      "max_height": null,
      "max_width": null,
      "min_height": null,
      "min_width": null,
      "object_fit": null,
      "object_position": null,
      "order": null,
      "overflow": null,
      "overflow_x": null,
      "overflow_y": null,
      "padding": null,
      "right": null,
      "top": null,
      "visibility": null,
      "width": null
     }
    },
    "408cd65137184e8c8ee880d9cb308341": {
     "model_module": "@jupyter-widgets/controls",
     "model_name": "DescriptionStyleModel",
     "model_module_version": "1.5.0",
     "state": {
      "_model_module": "@jupyter-widgets/controls",
      "_model_module_version": "1.5.0",
      "_model_name": "DescriptionStyleModel",
      "_view_count": null,
      "_view_module": "@jupyter-widgets/base",
      "_view_module_version": "1.2.0",
      "_view_name": "StyleView",
      "description_width": ""
     }
    },
    "eb4d129c876647d79faf85bcc9ce3afc": {
     "model_module": "@jupyter-widgets/base",
     "model_name": "LayoutModel",
     "model_module_version": "1.2.0",
     "state": {
      "_model_module": "@jupyter-widgets/base",
      "_model_module_version": "1.2.0",
      "_model_name": "LayoutModel",
      "_view_count": null,
      "_view_module": "@jupyter-widgets/base",
      "_view_module_version": "1.2.0",
      "_view_name": "LayoutView",
      "align_content": null,
      "align_items": null,
      "align_self": null,
      "border": null,
      "bottom": null,
      "display": null,
      "flex": null,
      "flex_flow": null,
      "grid_area": null,
      "grid_auto_columns": null,
      "grid_auto_flow": null,
      "grid_auto_rows": null,
      "grid_column": null,
      "grid_gap": null,
      "grid_row": null,
      "grid_template_areas": null,
      "grid_template_columns": null,
      "grid_template_rows": null,
      "height": null,
      "justify_content": null,
      "justify_items": null,
      "left": null,
      "margin": null,
      "max_height": null,
      "max_width": null,
      "min_height": null,
      "min_width": null,
      "object_fit": null,
      "object_position": null,
      "order": null,
      "overflow": null,
      "overflow_x": null,
      "overflow_y": null,
      "padding": null,
      "right": null,
      "top": null,
      "visibility": null,
      "width": null
     }
    },
    "d9b5920291b743b69f1470432a2b79c8": {
     "model_module": "@jupyter-widgets/controls",
     "model_name": "ProgressStyleModel",
     "model_module_version": "1.5.0",
     "state": {
      "_model_module": "@jupyter-widgets/controls",
      "_model_module_version": "1.5.0",
      "_model_name": "ProgressStyleModel",
      "_view_count": null,
      "_view_module": "@jupyter-widgets/base",
      "_view_module_version": "1.2.0",
      "_view_name": "StyleView",
      "bar_color": null,
      "description_width": ""
     }
    },
    "a2d1bdd05a8f4283942fdfe1e6e8bbc0": {
     "model_module": "@jupyter-widgets/base",
     "model_name": "LayoutModel",
     "model_module_version": "1.2.0",
     "state": {
      "_model_module": "@jupyter-widgets/base",
      "_model_module_version": "1.2.0",
      "_model_name": "LayoutModel",
      "_view_count": null,
      "_view_module": "@jupyter-widgets/base",
      "_view_module_version": "1.2.0",
      "_view_name": "LayoutView",
      "align_content": null,
      "align_items": null,
      "align_self": null,
      "border": null,
      "bottom": null,
      "display": null,
      "flex": null,
      "flex_flow": null,
      "grid_area": null,
      "grid_auto_columns": null,
      "grid_auto_flow": null,
      "grid_auto_rows": null,
      "grid_column": null,
      "grid_gap": null,
      "grid_row": null,
      "grid_template_areas": null,
      "grid_template_columns": null,
      "grid_template_rows": null,
      "height": null,
      "justify_content": null,
      "justify_items": null,
      "left": null,
      "margin": null,
      "max_height": null,
      "max_width": null,
      "min_height": null,
      "min_width": null,
      "object_fit": null,
      "object_position": null,
      "order": null,
      "overflow": null,
      "overflow_x": null,
      "overflow_y": null,
      "padding": null,
      "right": null,
      "top": null,
      "visibility": null,
      "width": null
     }
    },
    "1959c1cfebb14ad683cc3c41a8a4a5f7": {
     "model_module": "@jupyter-widgets/controls",
     "model_name": "DescriptionStyleModel",
     "model_module_version": "1.5.0",
     "state": {
      "_model_module": "@jupyter-widgets/controls",
      "_model_module_version": "1.5.0",
      "_model_name": "DescriptionStyleModel",
      "_view_count": null,
      "_view_module": "@jupyter-widgets/base",
      "_view_module_version": "1.2.0",
      "_view_name": "StyleView",
      "description_width": ""
     }
    }
   }
  }
 },
 "cells": [
  {
   "cell_type": "markdown",
   "source": [
    "#**Llama 2**"
   ],
   "metadata": {
    "id": "4bKQIsIq-d8y"
   }
  },
  {
   "cell_type": "markdown",
   "source": [
    "The Llama 2 is a collection of pretrained and fine-tuned generative text models, ranging from 7 billion to 70 billion parameters, designed for dialogue use cases."
   ],
   "metadata": {
    "id": "PnV5UC7A2vBZ"
   }
  },
  {
   "cell_type": "markdown",
   "source": [
    " It outperforms open-source chat models on most benchmarks and is on par with popular closed-source models in human evaluations for helpfulness and safety."
   ],
   "metadata": {
    "id": "AC41zK5l3Abp"
   }
  },
  {
   "cell_type": "markdown",
   "source": [
    "[Llama 2 13B-chat](https://huggingface.co/meta-llama/Llama-2-13b-chat)"
   ],
   "metadata": {
    "id": "4nobX9E83PjQ"
   }
  },
  {
   "cell_type": "markdown",
   "source": [
    "`llama.cpp`'s objective is to run the LLaMA model with 4-bit integer quantization on MacBook. It is a plain C/C++ implementation optimized for Apple silicon and x86 architectures, supporting various integer quantization and BLAS libraries. Originally a web chat example, it now serves as a development playground for ggml library features.\n",
    "\n",
    "`GGML`, a C library for machine learning, facilitates the distribution of large language models (LLMs). It utilizes quantization to enable efficient LLM execution on consumer hardware. GGML files contain binary-encoded data, including version number, hyperparameters, vocabulary, and weights. The vocabulary comprises tokens for language generation, while the weights determine the LLM's size. Quantization reduces precision to optimize resource usage."
   ],
   "metadata": {
    "id": "0K4QuEDH4CbY"
   }
  },
  {
   "cell_type": "markdown",
   "source": [
    "#  Quantized Models from the Hugging Face Community"
   ],
   "metadata": {
    "id": "3YC846SH5DOK"
   }
  },
  {
   "cell_type": "markdown",
   "source": [
    "The Hugging Face community provides quantized models, which allow us to efficiently and effectively utilize the model on the T4 GPU. It is important to consult reliable sources before using any model.\n",
    "\n",
    "There are several variations available, but the ones that interest us are based on the GGLM library.\n",
    "\n",
    "We can see the different variations that Llama-2-13B-GGML has [here](https://huggingface.co/models?search=llama%202%20ggml).\n",
    "\n",
    "\n",
    "\n",
    "In this case, we will use the model called [Llama-2-13B-chat-GGML](https://huggingface.co/TheBloke/Llama-2-13B-chat-GGML)."
   ],
   "metadata": {
    "id": "0TD82wis5LGA"
   }
  },
  {
   "cell_type": "markdown",
   "source": [
    "#**Step 1: Install All the Required Packages**"
   ],
   "metadata": {
    "id": "YQZBmz7I5neU"
   }
  },
  {
   "cell_type": "code",
   "metadata": {
    "id": "L0avf7xx2lcj",
    "colab": {
     "base_uri": "https://localhost:8080/"
    },
    "outputId": "51ce16dc-d6b2-49c9-9dab-734c7e554646",
    "ExecuteTime": {
     "end_time": "2024-04-11T10:40:17.699545Z",
     "start_time": "2024-04-11T10:39:47.719291Z"
    }
   },
   "source": [
    "# GPU llama-cpp-python\n",
    "!CMAKE_ARGS=\"-DLLAMA_CUBLAS=on\" FORCE_CMAKE=1 pip install llama-cpp-python==0.1.78 numpy==1.23.4 --force-reinstall --upgrade --no-cache-dir --verbose\n",
    "!pip install huggingface_hub\n",
    "!pip install llama-cpp-python==0.1.78\n",
    "!pip install numpy==1.23.4"
   ],
   "outputs": [
    {
     "name": "stdout",
     "output_type": "stream",
     "text": [
      "Using pip 24.0 from /Library/Frameworks/Python.framework/Versions/3.11/lib/python3.11/site-packages/pip (python 3.11)\r\n",
      "Collecting llama-cpp-python==0.1.78\r\n",
      "  Downloading llama_cpp_python-0.1.78.tar.gz (1.7 MB)\r\n",
      "\u001B[2K     \u001B[90m━━━━━━━━━━━━━━━━━━━━━━━━━━━━━━━━━━━━━━━━\u001B[0m \u001B[32m1.7/1.7 MB\u001B[0m \u001B[31m6.1 MB/s\u001B[0m eta \u001B[36m0:00:00\u001B[0ma \u001B[36m0:00:01\u001B[0m\r\n",
      "\u001B[?25h  Running command pip subprocess to install build dependencies\r\n",
      "  Collecting setuptools>=42\r\n",
      "    Using cached setuptools-69.2.0-py3-none-any.whl.metadata (6.3 kB)\r\n",
      "  Collecting scikit-build>=0.13\r\n",
      "    Downloading scikit_build-0.17.6-py3-none-any.whl.metadata (14 kB)\r\n",
      "  Collecting cmake>=3.18\r\n",
      "    Downloading cmake-3.29.1-py3-none-macosx_10_10_universal2.macosx_10_10_x86_64.macosx_11_0_arm64.macosx_11_0_universal2.whl.metadata (6.1 kB)\r\n",
      "  Collecting ninja\r\n",
      "    Downloading ninja-1.11.1.1-py2.py3-none-macosx_10_9_universal2.macosx_10_9_x86_64.macosx_11_0_arm64.macosx_11_0_universal2.whl.metadata (5.3 kB)\r\n",
      "  Collecting distro (from scikit-build>=0.13)\r\n",
      "    Using cached distro-1.9.0-py3-none-any.whl.metadata (6.8 kB)\r\n",
      "  Collecting packaging (from scikit-build>=0.13)\r\n",
      "    Using cached packaging-24.0-py3-none-any.whl.metadata (3.2 kB)\r\n",
      "  Collecting wheel>=0.32.0 (from scikit-build>=0.13)\r\n",
      "    Using cached wheel-0.43.0-py3-none-any.whl.metadata (2.2 kB)\r\n",
      "  Using cached setuptools-69.2.0-py3-none-any.whl (821 kB)\r\n",
      "  Downloading scikit_build-0.17.6-py3-none-any.whl (84 kB)\r\n",
      "  \u001B[?25l   \u001B[90m━━━━━━━━━━━━━━━━━━━━━━━━━━━━━━━━━━━━━━━━\u001B[0m \u001B[32m0.0/84.3 kB\u001B[0m \u001B[31m?\u001B[0m eta \u001B[36m-:--:--\u001B[0m\r\n",
      "  \u001B[2K   \u001B[91m━━━━━━━━━━━━━━━━━━━━━━━━━━━━━━━━━━━━━━\u001B[0m\u001B[91m╸\u001B[0m\u001B[90m━\u001B[0m \u001B[32m81.9/84.3 kB\u001B[0m \u001B[31m2.3 MB/s\u001B[0m eta \u001B[36m0:00:01\u001B[0m\r\n",
      "  \u001B[2K   \u001B[90m━━━━━━━━━━━━━━━━━━━━━━━━━━━━━━━━━━━━━━━━\u001B[0m \u001B[32m84.3/84.3 kB\u001B[0m \u001B[31m1.8 MB/s\u001B[0m eta \u001B[36m0:00:00\u001B[0m\r\n",
      "  \u001B[?25hDownloading cmake-3.29.1-py3-none-macosx_10_10_universal2.macosx_10_10_x86_64.macosx_11_0_arm64.macosx_11_0_universal2.whl (51.0 MB)\r\n",
      "  \u001B[?25l   \u001B[90m━━━━━━━━━━━━━━━━━━━━━━━━━━━━━━━━━━━━━━━━\u001B[0m \u001B[32m0.0/51.0 MB\u001B[0m \u001B[31m?\u001B[0m eta \u001B[36m-:--:--\u001B[0m\r\n",
      "  \u001B[2K   \u001B[90m━━━━━━━━━━━━━━━━━━━━━━━━━━━━━━━━━━━━━━━━\u001B[0m \u001B[32m0.1/51.0 MB\u001B[0m \u001B[31m3.3 MB/s\u001B[0m eta \u001B[36m0:00:16\u001B[0m\r\n",
      "  \u001B[2K   \u001B[90m━━━━━━━━━━━━━━━━━━━━━━━━━━━━━━━━━━━━━━━━\u001B[0m \u001B[32m0.3/51.0 MB\u001B[0m \u001B[31m3.7 MB/s\u001B[0m eta \u001B[36m0:00:14\u001B[0m\r\n",
      "  \u001B[2K   \u001B[90m━━━━━━━━━━━━━━━━━━━━━━━━━━━━━━━━━━━━━━━━\u001B[0m \u001B[32m0.4/51.0 MB\u001B[0m \u001B[31m4.0 MB/s\u001B[0m eta \u001B[36m0:00:13\u001B[0m\r\n",
      "  \u001B[2K   \u001B[90m━━━━━━━━━━━━━━━━━━━━━━━━━━━━━━━━━━━━━━━━\u001B[0m \u001B[32m0.6/51.0 MB\u001B[0m \u001B[31m4.4 MB/s\u001B[0m eta \u001B[36m0:00:12\u001B[0m\r\n",
      "  \u001B[2K   \u001B[91m╸\u001B[0m\u001B[90m━━━━━━━━━━━━━━━━━━━━━━━━━━━━━━━━━━━━━━━\u001B[0m \u001B[32m0.8/51.0 MB\u001B[0m \u001B[31m4.7 MB/s\u001B[0m eta \u001B[36m0:00:11\u001B[0m\r\n",
      "  \u001B[2K   \u001B[91m╸\u001B[0m\u001B[90m━━━━━━━━━━━━━━━━━━━━━━━━━━━━━━━━━━━━━━━\u001B[0m \u001B[32m1.2/51.0 MB\u001B[0m \u001B[31m5.3 MB/s\u001B[0m eta \u001B[36m0:00:10\u001B[0m\r\n",
      "  \u001B[2K   \u001B[91m━\u001B[0m\u001B[90m╺\u001B[0m\u001B[90m━━━━━━━━━━━━━━━━━━━━━━━━━━━━━━━━━━━━━━\u001B[0m \u001B[32m1.5/51.0 MB\u001B[0m \u001B[31m5.6 MB/s\u001B[0m eta \u001B[36m0:00:09\u001B[0m\r\n",
      "  \u001B[2K   \u001B[91m━\u001B[0m\u001B[90m╺\u001B[0m\u001B[90m━━━━━━━━━━━━━━━━━━━━━━━━━━━━━━━━━━━━━━\u001B[0m \u001B[32m1.8/51.0 MB\u001B[0m \u001B[31m6.3 MB/s\u001B[0m eta \u001B[36m0:00:08\u001B[0m\r\n",
      "  \u001B[2K   \u001B[91m━\u001B[0m\u001B[91m╸\u001B[0m\u001B[90m━━━━━━━━━━━━━━━━━━━━━━━━━━━━━━━━━━━━━━\u001B[0m \u001B[32m2.1/51.0 MB\u001B[0m \u001B[31m6.6 MB/s\u001B[0m eta \u001B[36m0:00:08\u001B[0m\r\n",
      "  \u001B[2K   \u001B[91m━\u001B[0m\u001B[91m╸\u001B[0m\u001B[90m━━━━━━━━━━━━━━━━━━━━━━━━━━━━━━━━━━━━━━\u001B[0m \u001B[32m2.1/51.0 MB\u001B[0m \u001B[31m6.6 MB/s\u001B[0m eta \u001B[36m0:00:08\u001B[0m\r\n",
      "  \u001B[2K   \u001B[91m━\u001B[0m\u001B[91m╸\u001B[0m\u001B[90m━━━━━━━━━━━━━━━━━━━━━━━━━━━━━━━━━━━━━━\u001B[0m \u001B[32m2.1/51.0 MB\u001B[0m \u001B[31m6.6 MB/s\u001B[0m eta \u001B[36m0:00:08\u001B[0m\r\n",
      "  \u001B[2K   \u001B[91m━\u001B[0m\u001B[91m╸\u001B[0m\u001B[90m━━━━━━━━━━━━━━━━━━━━━━━━━━━━━━━━━━━━━━\u001B[0m \u001B[32m2.1/51.0 MB\u001B[0m \u001B[31m6.6 MB/s\u001B[0m eta \u001B[36m0:00:08\u001B[0m\r\n",
      "  \u001B[2K   \u001B[91m━\u001B[0m\u001B[91m╸\u001B[0m\u001B[90m━━━━━━━━━━━━━━━━━━━━━━━━━━━━━━━━━━━━━━\u001B[0m \u001B[32m2.1/51.0 MB\u001B[0m \u001B[31m6.6 MB/s\u001B[0m eta \u001B[36m0:00:08\u001B[0m\r\n",
      "  \u001B[2K   \u001B[91m━\u001B[0m\u001B[91m╸\u001B[0m\u001B[90m━━━━━━━━━━━━━━━━━━━━━━━━━━━━━━━━━━━━━━\u001B[0m \u001B[32m2.1/51.0 MB\u001B[0m \u001B[31m6.6 MB/s\u001B[0m eta \u001B[36m0:00:08\u001B[0m\r\n",
      "  \u001B[2K   \u001B[91m━\u001B[0m\u001B[91m╸\u001B[0m\u001B[90m━━━━━━━━━━━━━━━━━━━━━━━━━━━━━━━━━━━━━━\u001B[0m \u001B[32m2.1/51.0 MB\u001B[0m \u001B[31m6.6 MB/s\u001B[0m eta \u001B[36m0:00:08\u001B[0m\r\n",
      "  \u001B[2K   \u001B[91m━\u001B[0m\u001B[91m╸\u001B[0m\u001B[90m━━━━━━━━━━━━━━━━━━━━━━━━━━━━━━━━━━━━━━\u001B[0m \u001B[32m2.1/51.0 MB\u001B[0m \u001B[31m6.6 MB/s\u001B[0m eta \u001B[36m0:00:08\u001B[0m\r\n",
      "  \u001B[2K   \u001B[91m━\u001B[0m\u001B[91m╸\u001B[0m\u001B[90m━━━━━━━━━━━━━━━━━━━━━━━━━━━━━━━━━━━━━━\u001B[0m \u001B[32m2.1/51.0 MB\u001B[0m \u001B[31m6.6 MB/s\u001B[0m eta \u001B[36m0:00:08\u001B[0m\r\n",
      "  \u001B[2K   \u001B[91m━\u001B[0m\u001B[91m╸\u001B[0m\u001B[90m━━━━━━━━━━━━━━━━━━━━━━━━━━━━━━━━━━━━━━\u001B[0m \u001B[32m2.1/51.0 MB\u001B[0m \u001B[31m6.6 MB/s\u001B[0m eta \u001B[36m0:00:08\u001B[0m\r\n",
      "  \u001B[2K   \u001B[91m━\u001B[0m\u001B[91m╸\u001B[0m\u001B[90m━━━━━━━━━━━━━━━━━━━━━━━━━━━━━━━━━━━━━━\u001B[0m \u001B[32m2.1/51.0 MB\u001B[0m \u001B[31m6.6 MB/s\u001B[0m eta \u001B[36m0:00:08\u001B[0m\r\n",
      "  \u001B[2K   \u001B[91m━\u001B[0m\u001B[91m╸\u001B[0m\u001B[90m━━━━━━━━━━━━━━━━━━━━━━━━━━━━━━━━━━━━━━\u001B[0m \u001B[32m2.1/51.0 MB\u001B[0m \u001B[31m6.6 MB/s\u001B[0m eta \u001B[36m0:00:08\u001B[0m\r\n",
      "  \u001B[2K   \u001B[91m━\u001B[0m\u001B[91m╸\u001B[0m\u001B[90m━━━━━━━━━━━━━━━━━━━━━━━━━━━━━━━━━━━━━━\u001B[0m \u001B[32m2.1/51.0 MB\u001B[0m \u001B[31m6.6 MB/s\u001B[0m eta \u001B[36m0:00:08\u001B[0m\r\n",
      "  \u001B[2K   \u001B[91m━\u001B[0m\u001B[91m╸\u001B[0m\u001B[90m━━━━━━━━━━━━━━━━━━━━━━━━━━━━━━━━━━━━━━\u001B[0m \u001B[32m2.1/51.0 MB\u001B[0m \u001B[31m6.6 MB/s\u001B[0m eta \u001B[36m0:00:08\u001B[0m\r\n",
      "  \u001B[2K   \u001B[91m━\u001B[0m\u001B[91m╸\u001B[0m\u001B[90m━━━━━━━━━━━━━━━━━━━━━━━━━━━━━━━━━━━━━━\u001B[0m \u001B[32m2.1/51.0 MB\u001B[0m \u001B[31m6.6 MB/s\u001B[0m eta \u001B[36m0:00:08\u001B[0m\r\n",
      "  \u001B[2K   \u001B[91m━\u001B[0m\u001B[91m╸\u001B[0m\u001B[90m━━━━━━━━━━━━━━━━━━━━━━━━━━━━━━━━━━━━━━\u001B[0m \u001B[32m2.2/51.0 MB\u001B[0m \u001B[31m2.5 MB/s\u001B[0m eta \u001B[36m0:00:20\u001B[0m\r\n",
      "  \u001B[2K   \u001B[91m━\u001B[0m\u001B[91m╸\u001B[0m\u001B[90m━━━━━━━━━━━━━━━━━━━━━━━━━━━━━━━━━━━━━━\u001B[0m \u001B[32m2.3/51.0 MB\u001B[0m \u001B[31m2.5 MB/s\u001B[0m eta \u001B[36m0:00:20\u001B[0m\r\n",
      "  \u001B[2K   \u001B[91m━\u001B[0m\u001B[91m╸\u001B[0m\u001B[90m━━━━━━━━━━━━━━━━━━━━━━━━━━━━━━━━━━━━━━\u001B[0m \u001B[32m2.5/51.0 MB\u001B[0m \u001B[31m2.6 MB/s\u001B[0m eta \u001B[36m0:00:19\u001B[0m\r\n",
      "  \u001B[2K   \u001B[91m━━\u001B[0m\u001B[90m╺\u001B[0m\u001B[90m━━━━━━━━━━━━━━━━━━━━━━━━━━━━━━━━━━━━━\u001B[0m \u001B[32m3.0/51.0 MB\u001B[0m \u001B[31m3.0 MB/s\u001B[0m eta \u001B[36m0:00:17\u001B[0m\r\n",
      "  \u001B[2K   \u001B[91m━━\u001B[0m\u001B[90m╺\u001B[0m\u001B[90m━━━━━━━━━━━━━━━━━━━━━━━━━━━━━━━━━━━━━\u001B[0m \u001B[32m3.1/51.0 MB\u001B[0m \u001B[31m3.1 MB/s\u001B[0m eta \u001B[36m0:00:16\u001B[0m\r\n",
      "  \u001B[2K   \u001B[91m━━\u001B[0m\u001B[90m╺\u001B[0m\u001B[90m━━━━━━━━━━━━━━━━━━━━━━━━━━━━━━━━━━━━━\u001B[0m \u001B[32m3.2/51.0 MB\u001B[0m \u001B[31m2.9 MB/s\u001B[0m eta \u001B[36m0:00:17\u001B[0m\r\n",
      "  \u001B[2K   \u001B[91m━━\u001B[0m\u001B[91m╸\u001B[0m\u001B[90m━━━━━━━━━━━━━━━━━━━━━━━━━━━━━━━━━━━━━\u001B[0m \u001B[32m3.5/51.0 MB\u001B[0m \u001B[31m3.1 MB/s\u001B[0m eta \u001B[36m0:00:16\u001B[0m\r\n",
      "  \u001B[2K   \u001B[91m━━━\u001B[0m\u001B[90m╺\u001B[0m\u001B[90m━━━━━━━━━━━━━━━━━━━━━━━━━━━━━━━━━━━━\u001B[0m \u001B[32m3.9/51.0 MB\u001B[0m \u001B[31m3.4 MB/s\u001B[0m eta \u001B[36m0:00:14\u001B[0m\r\n",
      "  \u001B[2K   \u001B[91m━━━\u001B[0m\u001B[90m╺\u001B[0m\u001B[90m━━━━━━━━━━━━━━━━━━━━━━━━━━━━━━━━━━━━\u001B[0m \u001B[32m4.2/51.0 MB\u001B[0m \u001B[31m3.5 MB/s\u001B[0m eta \u001B[36m0:00:14\u001B[0m\r\n",
      "  \u001B[2K   \u001B[91m━━━\u001B[0m\u001B[90m╺\u001B[0m\u001B[90m━━━━━━━━━━━━━━━━━━━━━━━━━━━━━━━━━━━━\u001B[0m \u001B[32m4.2/51.0 MB\u001B[0m \u001B[31m3.5 MB/s\u001B[0m eta \u001B[36m0:00:14\u001B[0m\r\n",
      "  \u001B[2K   \u001B[91m━━━\u001B[0m\u001B[91m╸\u001B[0m\u001B[90m━━━━━━━━━━━━━━━━━━━━━━━━━━━━━━━━━━━━\u001B[0m \u001B[32m4.5/51.0 MB\u001B[0m \u001B[31m3.5 MB/s\u001B[0m eta \u001B[36m0:00:14\u001B[0m\r\n",
      "  \u001B[2K   \u001B[91m━━━\u001B[0m\u001B[91m╸\u001B[0m\u001B[90m━━━━━━━━━━━━━━━━━━━━━━━━━━━━━━━━━━━━\u001B[0m \u001B[32m5.0/51.0 MB\u001B[0m \u001B[31m3.8 MB/s\u001B[0m eta \u001B[36m0:00:12\u001B[0m\r\n",
      "  \u001B[2K   \u001B[91m━━━━\u001B[0m\u001B[90m╺\u001B[0m\u001B[90m━━━━━━━━━━━━━━━━━━━━━━━━━━━━━━━━━━━\u001B[0m \u001B[32m5.5/51.0 MB\u001B[0m \u001B[31m4.1 MB/s\u001B[0m eta \u001B[36m0:00:12\u001B[0m\r\n",
      "  \u001B[2K   \u001B[91m━━━━\u001B[0m\u001B[91m╸\u001B[0m\u001B[90m━━━━━━━━━━━━━━━━━━━━━━━━━━━━━━━━━━━\u001B[0m \u001B[32m6.0/51.0 MB\u001B[0m \u001B[31m4.3 MB/s\u001B[0m eta \u001B[36m0:00:11\u001B[0m\r\n",
      "  \u001B[2K   \u001B[91m━━━━━\u001B[0m\u001B[90m╺\u001B[0m\u001B[90m━━━━━━━━━━━━━━━━━━━━━━━━━━━━━━━━━━\u001B[0m \u001B[32m6.5/51.0 MB\u001B[0m \u001B[31m4.6 MB/s\u001B[0m eta \u001B[36m0:00:10\u001B[0m\r\n",
      "  \u001B[2K   \u001B[91m━━━━━\u001B[0m\u001B[91m╸\u001B[0m\u001B[90m━━━━━━━━━━━━━━━━━━━━━━━━━━━━━━━━━━\u001B[0m \u001B[32m7.2/51.0 MB\u001B[0m \u001B[31m4.9 MB/s\u001B[0m eta \u001B[36m0:00:09\u001B[0m\r\n",
      "  \u001B[2K   \u001B[91m━━━━━━\u001B[0m\u001B[90m╺\u001B[0m\u001B[90m━━━━━━━━━━━━━━━━━━━━━━━━━━━━━━━━━\u001B[0m \u001B[32m7.7/51.0 MB\u001B[0m \u001B[31m5.2 MB/s\u001B[0m eta \u001B[36m0:00:09\u001B[0m\r\n",
      "  \u001B[2K   \u001B[91m━━━━━━\u001B[0m\u001B[90m╺\u001B[0m\u001B[90m━━━━━━━━━━━━━━━━━━━━━━━━━━━━━━━━━\u001B[0m \u001B[32m8.3/51.0 MB\u001B[0m \u001B[31m5.4 MB/s\u001B[0m eta \u001B[36m0:00:08\u001B[0m\r\n",
      "  \u001B[2K   \u001B[91m━━━━━━\u001B[0m\u001B[91m╸\u001B[0m\u001B[90m━━━━━━━━━━━━━━━━━━━━━━━━━━━━━━━━━\u001B[0m \u001B[32m8.4/51.0 MB\u001B[0m \u001B[31m5.4 MB/s\u001B[0m eta \u001B[36m0:00:08\u001B[0m\r\n",
      "  \u001B[2K   \u001B[91m━━━━━━\u001B[0m\u001B[91m╸\u001B[0m\u001B[90m━━━━━━━━━━━━━━━━━━━━━━━━━━━━━━━━━\u001B[0m \u001B[32m8.4/51.0 MB\u001B[0m \u001B[31m5.2 MB/s\u001B[0m eta \u001B[36m0:00:09\u001B[0m\r\n",
      "  \u001B[2K   \u001B[91m━━━━━━\u001B[0m\u001B[91m╸\u001B[0m\u001B[90m━━━━━━━━━━━━━━━━━━━━━━━━━━━━━━━━━\u001B[0m \u001B[32m8.7/51.0 MB\u001B[0m \u001B[31m5.3 MB/s\u001B[0m eta \u001B[36m0:00:08\u001B[0m\r\n",
      "  \u001B[2K   \u001B[91m━━━━━━━\u001B[0m\u001B[90m╺\u001B[0m\u001B[90m━━━━━━━━━━━━━━━━━━━━━━━━━━━━━━━━\u001B[0m \u001B[32m9.4/51.0 MB\u001B[0m \u001B[31m5.5 MB/s\u001B[0m eta \u001B[36m0:00:08\u001B[0m\r\n",
      "  \u001B[2K   \u001B[91m━━━━━━━\u001B[0m\u001B[91m╸\u001B[0m\u001B[90m━━━━━━━━━━━━━━━━━━━━━━━━━━━━━━━━\u001B[0m \u001B[32m9.9/51.0 MB\u001B[0m \u001B[31m5.7 MB/s\u001B[0m eta \u001B[36m0:00:08\u001B[0m\r\n",
      "  \u001B[2K   \u001B[91m━━━━━━━━\u001B[0m\u001B[90m╺\u001B[0m\u001B[90m━━━━━━━━━━━━━━━━━━━━━━━━━━━━━━━\u001B[0m \u001B[32m10.5/51.0 MB\u001B[0m \u001B[31m6.0 MB/s\u001B[0m eta \u001B[36m0:00:07\u001B[0m\r\n",
      "  \u001B[2K   \u001B[91m━━━━━━━━\u001B[0m\u001B[91m╸\u001B[0m\u001B[90m━━━━━━━━━━━━━━━━━━━━━━━━━━━━━━━\u001B[0m \u001B[32m11.1/51.0 MB\u001B[0m \u001B[31m6.3 MB/s\u001B[0m eta \u001B[36m0:00:07\u001B[0m\r\n",
      "  \u001B[2K   \u001B[91m━━━━━━━━━\u001B[0m\u001B[90m╺\u001B[0m\u001B[90m━━━━━━━━━━━━━━━━━━━━━━━━━━━━━━\u001B[0m \u001B[32m11.7/51.0 MB\u001B[0m \u001B[31m6.4 MB/s\u001B[0m eta \u001B[36m0:00:07\u001B[0m\r\n",
      "  \u001B[2K   \u001B[91m━━━━━━━━━\u001B[0m\u001B[91m╸\u001B[0m\u001B[90m━━━━━━━━━━━━━━━━━━━━━━━━━━━━━━\u001B[0m \u001B[32m12.2/51.0 MB\u001B[0m \u001B[31m6.5 MB/s\u001B[0m eta \u001B[36m0:00:06\u001B[0m\r\n",
      "  \u001B[2K   \u001B[91m━━━━━━━━━━\u001B[0m\u001B[90m╺\u001B[0m\u001B[90m━━━━━━━━━━━━━━━━━━━━━━━━━━━━━\u001B[0m \u001B[32m12.8/51.0 MB\u001B[0m \u001B[31m10.8 MB/s\u001B[0m eta \u001B[36m0:00:04\u001B[0m\r\n",
      "  \u001B[2K   \u001B[91m━━━━━━━━━━\u001B[0m\u001B[90m╺\u001B[0m\u001B[90m━━━━━━━━━━━━━━━━━━━━━━━━━━━━━\u001B[0m \u001B[32m13.3/51.0 MB\u001B[0m \u001B[31m10.8 MB/s\u001B[0m eta \u001B[36m0:00:04\u001B[0m\r\n",
      "  \u001B[2K   \u001B[91m━━━━━━━━━━\u001B[0m\u001B[91m╸\u001B[0m\u001B[90m━━━━━━━━━━━━━━━━━━━━━━━━━━━━━\u001B[0m \u001B[32m13.9/51.0 MB\u001B[0m \u001B[31m11.9 MB/s\u001B[0m eta \u001B[36m0:00:04\u001B[0m\r\n",
      "  \u001B[2K   \u001B[91m━━━━━━━━━━━\u001B[0m\u001B[90m╺\u001B[0m\u001B[90m━━━━━━━━━━━━━━━━━━━━━━━━━━━━\u001B[0m \u001B[32m14.4/51.0 MB\u001B[0m \u001B[31m13.0 MB/s\u001B[0m eta \u001B[36m0:00:03\u001B[0m\r\n",
      "  \u001B[2K   \u001B[91m━━━━━━━━━━━\u001B[0m\u001B[91m╸\u001B[0m\u001B[90m━━━━━━━━━━━━━━━━━━━━━━━━━━━━\u001B[0m \u001B[32m14.8/51.0 MB\u001B[0m \u001B[31m13.0 MB/s\u001B[0m eta \u001B[36m0:00:03\u001B[0m\r\n",
      "  \u001B[2K   \u001B[91m━━━━━━━━━━━━\u001B[0m\u001B[90m╺\u001B[0m\u001B[90m━━━━━━━━━━━━━━━━━━━━━━━━━━━\u001B[0m \u001B[32m15.3/51.0 MB\u001B[0m \u001B[31m13.0 MB/s\u001B[0m eta \u001B[36m0:00:03\u001B[0m\r\n",
      "  \u001B[2K   \u001B[91m━━━━━━━━━━━━\u001B[0m\u001B[90m╺\u001B[0m\u001B[90m━━━━━━━━━━━━━━━━━━━━━━━━━━━\u001B[0m \u001B[32m15.9/51.0 MB\u001B[0m \u001B[31m13.1 MB/s\u001B[0m eta \u001B[36m0:00:03\u001B[0m\r\n",
      "  \u001B[2K   \u001B[91m━━━━━━━━━━━━\u001B[0m\u001B[91m╸\u001B[0m\u001B[90m━━━━━━━━━━━━━━━━━━━━━━━━━━━\u001B[0m \u001B[32m16.4/51.0 MB\u001B[0m \u001B[31m13.0 MB/s\u001B[0m eta \u001B[36m0:00:03\u001B[0m\r\n",
      "  \u001B[2K   \u001B[91m━━━━━━━━━━━━━\u001B[0m\u001B[90m╺\u001B[0m\u001B[90m━━━━━━━━━━━━━━━━━━━━━━━━━━\u001B[0m \u001B[32m16.9/51.0 MB\u001B[0m \u001B[31m12.9 MB/s\u001B[0m eta \u001B[36m0:00:03\u001B[0m\r\n",
      "  \u001B[2K   \u001B[91m━━━━━━━━━━━━━\u001B[0m\u001B[91m╸\u001B[0m\u001B[90m━━━━━━━━━━━━━━━━━━━━━━━━━━\u001B[0m \u001B[32m17.3/51.0 MB\u001B[0m \u001B[31m12.8 MB/s\u001B[0m eta \u001B[36m0:00:03\u001B[0m\r\n",
      "  \u001B[2K   \u001B[91m━━━━━━━━━━━━━\u001B[0m\u001B[91m╸\u001B[0m\u001B[90m━━━━━━━━━━━━━━━━━━━━━━━━━━\u001B[0m \u001B[32m17.8/51.0 MB\u001B[0m \u001B[31m12.8 MB/s\u001B[0m eta \u001B[36m0:00:03\u001B[0m\r\n",
      "  \u001B[2K   \u001B[91m━━━━━━━━━━━━━━\u001B[0m\u001B[90m╺\u001B[0m\u001B[90m━━━━━━━━━━━━━━━━━━━━━━━━━\u001B[0m \u001B[32m18.2/51.0 MB\u001B[0m \u001B[31m12.7 MB/s\u001B[0m eta \u001B[36m0:00:03\u001B[0m\r\n",
      "  \u001B[2K   \u001B[91m━━━━━━━━━━━━━━\u001B[0m\u001B[91m╸\u001B[0m\u001B[90m━━━━━━━━━━━━━━━━━━━━━━━━━\u001B[0m \u001B[32m18.7/51.0 MB\u001B[0m \u001B[31m13.9 MB/s\u001B[0m eta \u001B[36m0:00:03\u001B[0m\r\n",
      "  \u001B[2K   \u001B[91m━━━━━━━━━━━━━━━\u001B[0m\u001B[90m╺\u001B[0m\u001B[90m━━━━━━━━━━━━━━━━━━━━━━━━\u001B[0m \u001B[32m19.3/51.0 MB\u001B[0m \u001B[31m14.3 MB/s\u001B[0m eta \u001B[36m0:00:03\u001B[0m\r\n",
      "  \u001B[2K   \u001B[91m━━━━━━━━━━━━━━━\u001B[0m\u001B[91m╸\u001B[0m\u001B[90m━━━━━━━━━━━━━━━━━━━━━━━━\u001B[0m \u001B[32m19.8/51.0 MB\u001B[0m \u001B[31m14.0 MB/s\u001B[0m eta \u001B[36m0:00:03\u001B[0m\r\n",
      "  \u001B[2K   \u001B[91m━━━━━━━━━━━━━━━\u001B[0m\u001B[91m╸\u001B[0m\u001B[90m━━━━━━━━━━━━━━━━━━━━━━━━\u001B[0m \u001B[32m20.2/51.0 MB\u001B[0m \u001B[31m14.0 MB/s\u001B[0m eta \u001B[36m0:00:03\u001B[0m\r\n",
      "  \u001B[2K   \u001B[91m━━━━━━━━━━━━━━━━\u001B[0m\u001B[90m╺\u001B[0m\u001B[90m━━━━━━━━━━━━━━━━━━━━━━━\u001B[0m \u001B[32m20.6/51.0 MB\u001B[0m \u001B[31m13.8 MB/s\u001B[0m eta \u001B[36m0:00:03\u001B[0m\r\n",
      "  \u001B[2K   \u001B[91m━━━━━━━━━━━━━━━━\u001B[0m\u001B[91m╸\u001B[0m\u001B[90m━━━━━━━━━━━━━━━━━━━━━━━\u001B[0m \u001B[32m21.2/51.0 MB\u001B[0m \u001B[31m13.7 MB/s\u001B[0m eta \u001B[36m0:00:03\u001B[0m\r\n",
      "  \u001B[2K   \u001B[91m━━━━━━━━━━━━━━━━\u001B[0m\u001B[91m╸\u001B[0m\u001B[90m━━━━━━━━━━━━━━━━━━━━━━━\u001B[0m \u001B[32m21.7/51.0 MB\u001B[0m \u001B[31m13.6 MB/s\u001B[0m eta \u001B[36m0:00:03\u001B[0m\r\n",
      "  \u001B[2K   \u001B[91m━━━━━━━━━━━━━━━━━\u001B[0m\u001B[90m╺\u001B[0m\u001B[90m━━━━━━━━━━━━━━━━━━━━━━\u001B[0m \u001B[32m22.2/51.0 MB\u001B[0m \u001B[31m13.5 MB/s\u001B[0m eta \u001B[36m0:00:03\u001B[0m\r\n",
      "  \u001B[2K   \u001B[91m━━━━━━━━━━━━━━━━━\u001B[0m\u001B[91m╸\u001B[0m\u001B[90m━━━━━━━━━━━━━━━━━━━━━━\u001B[0m \u001B[32m22.7/51.0 MB\u001B[0m \u001B[31m13.6 MB/s\u001B[0m eta \u001B[36m0:00:03\u001B[0m\r\n",
      "  \u001B[2K   \u001B[91m━━━━━━━━━━━━━━━━━━\u001B[0m\u001B[90m╺\u001B[0m\u001B[90m━━━━━━━━━━━━━━━━━━━━━\u001B[0m \u001B[32m23.3/51.0 MB\u001B[0m \u001B[31m13.7 MB/s\u001B[0m eta \u001B[36m0:00:03\u001B[0m\r\n",
      "  \u001B[2K   \u001B[91m━━━━━━━━━━━━━━━━━━\u001B[0m\u001B[91m╸\u001B[0m\u001B[90m━━━━━━━━━━━━━━━━━━━━━\u001B[0m \u001B[32m23.7/51.0 MB\u001B[0m \u001B[31m13.6 MB/s\u001B[0m eta \u001B[36m0:00:03\u001B[0m\r\n",
      "  \u001B[2K   \u001B[91m━━━━━━━━━━━━━━━━━━\u001B[0m\u001B[91m╸\u001B[0m\u001B[90m━━━━━━━━━━━━━━━━━━━━━\u001B[0m \u001B[32m24.1/51.0 MB\u001B[0m \u001B[31m13.5 MB/s\u001B[0m eta \u001B[36m0:00:02\u001B[0m\r\n",
      "  \u001B[2K   \u001B[91m━━━━━━━━━━━━━━━━━━\u001B[0m\u001B[91m╸\u001B[0m\u001B[90m━━━━━━━━━━━━━━━━━━━━━\u001B[0m \u001B[32m24.1/51.0 MB\u001B[0m \u001B[31m12.7 MB/s\u001B[0m eta \u001B[36m0:00:03\u001B[0m\r\n",
      "  \u001B[2K   \u001B[91m━━━━━━━━━━━━━━━━━━━\u001B[0m\u001B[90m╺\u001B[0m\u001B[90m━━━━━━━━━━━━━━━━━━━━\u001B[0m \u001B[32m24.4/51.0 MB\u001B[0m \u001B[31m12.5 MB/s\u001B[0m eta \u001B[36m0:00:03\u001B[0m\r\n",
      "  \u001B[2K   \u001B[91m━━━━━━━━━━━━━━━━━━━\u001B[0m\u001B[90m╺\u001B[0m\u001B[90m━━━━━━━━━━━━━━━━━━━━\u001B[0m \u001B[32m24.8/51.0 MB\u001B[0m \u001B[31m12.3 MB/s\u001B[0m eta \u001B[36m0:00:03\u001B[0m\r\n",
      "  \u001B[2K   \u001B[91m━━━━━━━━━━━━━━━━━━━\u001B[0m\u001B[91m╸\u001B[0m\u001B[90m━━━━━━━━━━━━━━━━━━━━\u001B[0m \u001B[32m25.2/51.0 MB\u001B[0m \u001B[31m12.3 MB/s\u001B[0m eta \u001B[36m0:00:03\u001B[0m\r\n",
      "  \u001B[2K   \u001B[91m━━━━━━━━━━━━━━━━━━━━\u001B[0m\u001B[90m╺\u001B[0m\u001B[90m━━━━━━━━━━━━━━━━━━━\u001B[0m \u001B[32m25.6/51.0 MB\u001B[0m \u001B[31m12.2 MB/s\u001B[0m eta \u001B[36m0:00:03\u001B[0m\r\n",
      "  \u001B[2K   \u001B[91m━━━━━━━━━━━━━━━━━━━━\u001B[0m\u001B[90m╺\u001B[0m\u001B[90m━━━━━━━━━━━━━━━━━━━\u001B[0m \u001B[32m26.0/51.0 MB\u001B[0m \u001B[31m12.0 MB/s\u001B[0m eta \u001B[36m0:00:03\u001B[0m\r\n",
      "  \u001B[2K   \u001B[91m━━━━━━━━━━━━━━━━━━━━\u001B[0m\u001B[91m╸\u001B[0m\u001B[90m━━━━━━━━━━━━━━━━━━━\u001B[0m \u001B[32m26.4/51.0 MB\u001B[0m \u001B[31m12.0 MB/s\u001B[0m eta \u001B[36m0:00:03\u001B[0m\r\n",
      "  \u001B[2K   \u001B[91m━━━━━━━━━━━━━━━━━━━━━\u001B[0m\u001B[90m╺\u001B[0m\u001B[90m━━━━━━━━━━━━━━━━━━\u001B[0m \u001B[32m26.8/51.0 MB\u001B[0m \u001B[31m11.9 MB/s\u001B[0m eta \u001B[36m0:00:03\u001B[0m\r\n",
      "  \u001B[2K   \u001B[91m━━━━━━━━━━━━━━━━━━━━━\u001B[0m\u001B[90m╺\u001B[0m\u001B[90m━━━━━━━━━━━━━━━━━━\u001B[0m \u001B[32m27.4/51.0 MB\u001B[0m \u001B[31m11.9 MB/s\u001B[0m eta \u001B[36m0:00:02\u001B[0m\r\n",
      "  \u001B[2K   \u001B[91m━━━━━━━━━━━━━━━━━━━━━\u001B[0m\u001B[91m╸\u001B[0m\u001B[90m━━━━━━━━━━━━━━━━━━\u001B[0m \u001B[32m27.9/51.0 MB\u001B[0m \u001B[31m11.9 MB/s\u001B[0m eta \u001B[36m0:00:02\u001B[0m\r\n",
      "  \u001B[2K   \u001B[91m━━━━━━━━━━━━━━━━━━━━━━\u001B[0m\u001B[90m╺\u001B[0m\u001B[90m━━━━━━━━━━━━━━━━━\u001B[0m \u001B[32m28.4/51.0 MB\u001B[0m \u001B[31m11.8 MB/s\u001B[0m eta \u001B[36m0:00:02\u001B[0m\r\n",
      "  \u001B[2K   \u001B[91m━━━━━━━━━━━━━━━━━━━━━━\u001B[0m\u001B[91m╸\u001B[0m\u001B[90m━━━━━━━━━━━━━━━━━\u001B[0m \u001B[32m28.8/51.0 MB\u001B[0m \u001B[31m11.8 MB/s\u001B[0m eta \u001B[36m0:00:02\u001B[0m\r\n",
      "  \u001B[2K   \u001B[91m━━━━━━━━━━━━━━━━━━━━━━\u001B[0m\u001B[91m╸\u001B[0m\u001B[90m━━━━━━━━━━━━━━━━━\u001B[0m \u001B[32m29.3/51.0 MB\u001B[0m \u001B[31m11.7 MB/s\u001B[0m eta \u001B[36m0:00:02\u001B[0m\r\n",
      "  \u001B[2K   \u001B[91m━━━━━━━━━━━━━━━━━━━━━━━\u001B[0m\u001B[90m╺\u001B[0m\u001B[90m━━━━━━━━━━━━━━━━\u001B[0m \u001B[32m29.7/51.0 MB\u001B[0m \u001B[31m11.7 MB/s\u001B[0m eta \u001B[36m0:00:02\u001B[0m\r\n",
      "  \u001B[2K   \u001B[91m━━━━━━━━━━━━━━━━━━━━━━━\u001B[0m\u001B[91m╸\u001B[0m\u001B[90m━━━━━━━━━━━━━━━━\u001B[0m \u001B[32m30.2/51.0 MB\u001B[0m \u001B[31m11.7 MB/s\u001B[0m eta \u001B[36m0:00:02\u001B[0m\r\n",
      "  \u001B[2K   \u001B[91m━━━━━━━━━━━━━━━━━━━━━━━\u001B[0m\u001B[91m╸\u001B[0m\u001B[90m━━━━━━━━━━━━━━━━\u001B[0m \u001B[32m30.6/51.0 MB\u001B[0m \u001B[31m11.6 MB/s\u001B[0m eta \u001B[36m0:00:02\u001B[0m\r\n",
      "  \u001B[2K   \u001B[91m━━━━━━━━━━━━━━━━━━━━━━━━\u001B[0m\u001B[90m╺\u001B[0m\u001B[90m━━━━━━━━━━━━━━━\u001B[0m \u001B[32m31.0/51.0 MB\u001B[0m \u001B[31m11.6 MB/s\u001B[0m eta \u001B[36m0:00:02\u001B[0m\r\n",
      "  \u001B[2K   \u001B[91m━━━━━━━━━━━━━━━━━━━━━━━━\u001B[0m\u001B[91m╸\u001B[0m\u001B[90m━━━━━━━━━━━━━━━\u001B[0m \u001B[32m31.5/51.0 MB\u001B[0m \u001B[31m11.5 MB/s\u001B[0m eta \u001B[36m0:00:02\u001B[0m\r\n",
      "  \u001B[2K   \u001B[91m━━━━━━━━━━━━━━━━━━━━━━━━━\u001B[0m\u001B[90m╺\u001B[0m\u001B[90m━━━━━━━━━━━━━━\u001B[0m \u001B[32m32.0/51.0 MB\u001B[0m \u001B[31m11.5 MB/s\u001B[0m eta \u001B[36m0:00:02\u001B[0m\r\n",
      "  \u001B[2K   \u001B[91m━━━━━━━━━━━━━━━━━━━━━━━━━\u001B[0m\u001B[91m╸\u001B[0m\u001B[90m━━━━━━━━━━━━━━\u001B[0m \u001B[32m32.6/51.0 MB\u001B[0m \u001B[31m11.6 MB/s\u001B[0m eta \u001B[36m0:00:02\u001B[0m\r\n",
      "  \u001B[2K   \u001B[91m━━━━━━━━━━━━━━━━━━━━━━━━━\u001B[0m\u001B[91m╸\u001B[0m\u001B[90m━━━━━━━━━━━━━━\u001B[0m \u001B[32m33.1/51.0 MB\u001B[0m \u001B[31m11.5 MB/s\u001B[0m eta \u001B[36m0:00:02\u001B[0m\r\n",
      "  \u001B[2K   \u001B[91m━━━━━━━━━━━━━━━━━━━━━━━━━━\u001B[0m\u001B[90m╺\u001B[0m\u001B[90m━━━━━━━━━━━━━\u001B[0m \u001B[32m33.7/51.0 MB\u001B[0m \u001B[31m11.5 MB/s\u001B[0m eta \u001B[36m0:00:02\u001B[0m\r\n",
      "  \u001B[2K   \u001B[91m━━━━━━━━━━━━━━━━━━━━━━━━━━\u001B[0m\u001B[91m╸\u001B[0m\u001B[90m━━━━━━━━━━━━━\u001B[0m \u001B[32m34.2/51.0 MB\u001B[0m \u001B[31m11.5 MB/s\u001B[0m eta \u001B[36m0:00:02\u001B[0m\r\n",
      "  \u001B[2K   \u001B[91m━━━━━━━━━━━━━━━━━━━━━━━━━━━\u001B[0m\u001B[90m╺\u001B[0m\u001B[90m━━━━━━━━━━━━\u001B[0m \u001B[32m34.6/51.0 MB\u001B[0m \u001B[31m12.4 MB/s\u001B[0m eta \u001B[36m0:00:02\u001B[0m\r\n",
      "  \u001B[2K   \u001B[91m━━━━━━━━━━━━━━━━━━━━━━━━━━━\u001B[0m\u001B[91m╸\u001B[0m\u001B[90m━━━━━━━━━━━━\u001B[0m \u001B[32m35.1/51.0 MB\u001B[0m \u001B[31m12.4 MB/s\u001B[0m eta \u001B[36m0:00:02\u001B[0m\r\n",
      "  \u001B[2K   \u001B[91m━━━━━━━━━━━━━━━━━━━━━━━━━━━\u001B[0m\u001B[91m╸\u001B[0m\u001B[90m━━━━━━━━━━━━\u001B[0m \u001B[32m35.6/51.0 MB\u001B[0m \u001B[31m12.5 MB/s\u001B[0m eta \u001B[36m0:00:02\u001B[0m\r\n",
      "  \u001B[2K   \u001B[91m━━━━━━━━━━━━━━━━━━━━━━━━━━━━\u001B[0m\u001B[90m╺\u001B[0m\u001B[90m━━━━━━━━━━━\u001B[0m \u001B[32m36.0/51.0 MB\u001B[0m \u001B[31m12.5 MB/s\u001B[0m eta \u001B[36m0:00:02\u001B[0m\r\n",
      "  \u001B[2K   \u001B[91m━━━━━━━━━━━━━━━━━━━━━━━━━━━━\u001B[0m\u001B[91m╸\u001B[0m\u001B[90m━━━━━━━━━━━\u001B[0m \u001B[32m36.5/51.0 MB\u001B[0m \u001B[31m12.9 MB/s\u001B[0m eta \u001B[36m0:00:02\u001B[0m\r\n",
      "  \u001B[2K   \u001B[91m━━━━━━━━━━━━━━━━━━━━━━━━━━━━━\u001B[0m\u001B[90m╺\u001B[0m\u001B[90m━━━━━━━━━━\u001B[0m \u001B[32m37.0/51.0 MB\u001B[0m \u001B[31m12.9 MB/s\u001B[0m eta \u001B[36m0:00:02\u001B[0m\r\n",
      "  \u001B[2K   \u001B[91m━━━━━━━━━━━━━━━━━━━━━━━━━━━━━\u001B[0m\u001B[90m╺\u001B[0m\u001B[90m━━━━━━━━━━\u001B[0m \u001B[32m37.5/51.0 MB\u001B[0m \u001B[31m12.9 MB/s\u001B[0m eta \u001B[36m0:00:02\u001B[0m\r\n",
      "  \u001B[2K   \u001B[91m━━━━━━━━━━━━━━━━━━━━━━━━━━━━━\u001B[0m\u001B[91m╸\u001B[0m\u001B[90m━━━━━━━━━━\u001B[0m \u001B[32m37.9/51.0 MB\u001B[0m \u001B[31m12.8 MB/s\u001B[0m eta \u001B[36m0:00:02\u001B[0m\r\n",
      "  \u001B[2K   \u001B[91m━━━━━━━━━━━━━━━━━━━━━━━━━━━━━━\u001B[0m\u001B[90m╺\u001B[0m\u001B[90m━━━━━━━━━\u001B[0m \u001B[32m38.4/51.0 MB\u001B[0m \u001B[31m12.8 MB/s\u001B[0m eta \u001B[36m0:00:01\u001B[0m\r\n",
      "  \u001B[2K   \u001B[91m━━━━━━━━━━━━━━━━━━━━━━━━━━━━━━\u001B[0m\u001B[90m╺\u001B[0m\u001B[90m━━━━━━━━━\u001B[0m \u001B[32m38.8/51.0 MB\u001B[0m \u001B[31m12.7 MB/s\u001B[0m eta \u001B[36m0:00:01\u001B[0m\r\n",
      "  \u001B[2K   \u001B[91m━━━━━━━━━━━━━━━━━━━━━━━━━━━━━━\u001B[0m\u001B[91m╸\u001B[0m\u001B[90m━━━━━━━━━\u001B[0m \u001B[32m39.3/51.0 MB\u001B[0m \u001B[31m12.9 MB/s\u001B[0m eta \u001B[36m0:00:01\u001B[0m\r\n",
      "  \u001B[2K   \u001B[91m━━━━━━━━━━━━━━━━━━━━━━━━━━━━━━━\u001B[0m\u001B[90m╺\u001B[0m\u001B[90m━━━━━━━━\u001B[0m \u001B[32m39.8/51.0 MB\u001B[0m \u001B[31m12.8 MB/s\u001B[0m eta \u001B[36m0:00:01\u001B[0m\r\n",
      "  \u001B[2K   \u001B[91m━━━━━━━━━━━━━━━━━━━━━━━━━━━━━━━\u001B[0m\u001B[90m╺\u001B[0m\u001B[90m━━━━━━━━\u001B[0m \u001B[32m39.9/51.0 MB\u001B[0m \u001B[31m12.3 MB/s\u001B[0m eta \u001B[36m0:00:01\u001B[0m\r\n",
      "  \u001B[2K   \u001B[91m━━━━━━━━━━━━━━━━━━━━━━━━━━━━━━━\u001B[0m\u001B[91m╸\u001B[0m\u001B[90m━━━━━━━━\u001B[0m \u001B[32m40.4/51.0 MB\u001B[0m \u001B[31m12.5 MB/s\u001B[0m eta \u001B[36m0:00:01\u001B[0m\r\n",
      "  \u001B[2K   \u001B[91m━━━━━━━━━━━━━━━━━━━━━━━━━━━━━━━━\u001B[0m\u001B[90m╺\u001B[0m\u001B[90m━━━━━━━\u001B[0m \u001B[32m41.0/51.0 MB\u001B[0m \u001B[31m12.7 MB/s\u001B[0m eta \u001B[36m0:00:01\u001B[0m\r\n",
      "  \u001B[2K   \u001B[91m━━━━━━━━━━━━━━━━━━━━━━━━━━━━━━━━\u001B[0m\u001B[91m╸\u001B[0m\u001B[90m━━━━━━━\u001B[0m \u001B[32m41.5/51.0 MB\u001B[0m \u001B[31m12.8 MB/s\u001B[0m eta \u001B[36m0:00:01\u001B[0m\r\n",
      "  \u001B[2K   \u001B[91m━━━━━━━━━━━━━━━━━━━━━━━━━━━━━━━━\u001B[0m\u001B[91m╸\u001B[0m\u001B[90m━━━━━━━\u001B[0m \u001B[32m41.9/51.0 MB\u001B[0m \u001B[31m12.9 MB/s\u001B[0m eta \u001B[36m0:00:01\u001B[0m\r\n",
      "  \u001B[2K   \u001B[91m━━━━━━━━━━━━━━━━━━━━━━━━━━━━━━━━━\u001B[0m\u001B[90m╺\u001B[0m\u001B[90m━━━━━━\u001B[0m \u001B[32m42.2/51.0 MB\u001B[0m \u001B[31m12.3 MB/s\u001B[0m eta \u001B[36m0:00:01\u001B[0m\r\n",
      "  \u001B[2K   \u001B[91m━━━━━━━━━━━━━━━━━━━━━━━━━━━━━━━━━\u001B[0m\u001B[91m╸\u001B[0m\u001B[90m━━━━━━\u001B[0m \u001B[32m42.7/51.0 MB\u001B[0m \u001B[31m12.2 MB/s\u001B[0m eta \u001B[36m0:00:01\u001B[0m\r\n",
      "  \u001B[2K   \u001B[91m━━━━━━━━━━━━━━━━━━━━━━━━━━━━━━━━━\u001B[0m\u001B[91m╸\u001B[0m\u001B[90m━━━━━━\u001B[0m \u001B[32m43.3/51.0 MB\u001B[0m \u001B[31m12.3 MB/s\u001B[0m eta \u001B[36m0:00:01\u001B[0m\r\n",
      "  \u001B[2K   \u001B[91m━━━━━━━━━━━━━━━━━━━━━━━━━━━━━━━━━━\u001B[0m\u001B[90m╺\u001B[0m\u001B[90m━━━━━\u001B[0m \u001B[32m43.8/51.0 MB\u001B[0m \u001B[31m12.3 MB/s\u001B[0m eta \u001B[36m0:00:01\u001B[0m\r\n",
      "  \u001B[2K   \u001B[91m━━━━━━━━━━━━━━━━━━━━━━━━━━━━━━━━━━\u001B[0m\u001B[91m╸\u001B[0m\u001B[90m━━━━━\u001B[0m \u001B[32m44.4/51.0 MB\u001B[0m \u001B[31m12.5 MB/s\u001B[0m eta \u001B[36m0:00:01\u001B[0m\r\n",
      "  \u001B[2K   \u001B[91m━━━━━━━━━━━━━━━━━━━━━━━━━━━━━━━━━━━\u001B[0m\u001B[90m╺\u001B[0m\u001B[90m━━━━\u001B[0m \u001B[32m45.1/51.0 MB\u001B[0m \u001B[31m12.7 MB/s\u001B[0m eta \u001B[36m0:00:01\u001B[0m\r\n",
      "  \u001B[2K   \u001B[91m━━━━━━━━━━━━━━━━━━━━━━━━━━━━━━━━━━━\u001B[0m\u001B[91m╸\u001B[0m\u001B[90m━━━━\u001B[0m \u001B[32m45.5/51.0 MB\u001B[0m \u001B[31m12.8 MB/s\u001B[0m eta \u001B[36m0:00:01\u001B[0m\r\n",
      "  \u001B[2K   \u001B[91m━━━━━━━━━━━━━━━━━━━━━━━━━━━━━━━━━━━━\u001B[0m\u001B[90m╺\u001B[0m\u001B[90m━━━\u001B[0m \u001B[32m46.0/51.0 MB\u001B[0m \u001B[31m12.7 MB/s\u001B[0m eta \u001B[36m0:00:01\u001B[0m\r\n",
      "  \u001B[2K   \u001B[91m━━━━━━━━━━━━━━━━━━━━━━━━━━━━━━━━━━━━\u001B[0m\u001B[90m╺\u001B[0m\u001B[90m━━━\u001B[0m \u001B[32m46.5/51.0 MB\u001B[0m \u001B[31m12.7 MB/s\u001B[0m eta \u001B[36m0:00:01\u001B[0m\r\n",
      "  \u001B[2K   \u001B[91m━━━━━━━━━━━━━━━━━━━━━━━━━━━━━━━━━━━━\u001B[0m\u001B[91m╸\u001B[0m\u001B[90m━━━\u001B[0m \u001B[32m46.9/51.0 MB\u001B[0m \u001B[31m12.6 MB/s\u001B[0m eta \u001B[36m0:00:01\u001B[0m\r\n",
      "  \u001B[2K   \u001B[91m━━━━━━━━━━━━━━━━━━━━━━━━━━━━━━━━━━━━━\u001B[0m\u001B[90m╺\u001B[0m\u001B[90m━━\u001B[0m \u001B[32m47.4/51.0 MB\u001B[0m \u001B[31m12.6 MB/s\u001B[0m eta \u001B[36m0:00:01\u001B[0m\r\n",
      "  \u001B[2K   \u001B[91m━━━━━━━━━━━━━━━━━━━━━━━━━━━━━━━━━━━━━\u001B[0m\u001B[91m╸\u001B[0m\u001B[90m━━\u001B[0m \u001B[32m47.9/51.0 MB\u001B[0m \u001B[31m12.7 MB/s\u001B[0m eta \u001B[36m0:00:01\u001B[0m\r\n",
      "  \u001B[2K   \u001B[91m━━━━━━━━━━━━━━━━━━━━━━━━━━━━━━━━━━━━━━\u001B[0m\u001B[90m╺\u001B[0m\u001B[90m━\u001B[0m \u001B[32m48.5/51.0 MB\u001B[0m \u001B[31m12.9 MB/s\u001B[0m eta \u001B[36m0:00:01\u001B[0m\r\n",
      "  \u001B[2K   \u001B[91m━━━━━━━━━━━━━━━━━━━━━━━━━━━━━━━━━━━━━━\u001B[0m\u001B[90m╺\u001B[0m\u001B[90m━\u001B[0m \u001B[32m48.9/51.0 MB\u001B[0m \u001B[31m12.9 MB/s\u001B[0m eta \u001B[36m0:00:01\u001B[0m\r\n",
      "  \u001B[2K   \u001B[91m━━━━━━━━━━━━━━━━━━━━━━━━━━━━━━━━━━━━━━\u001B[0m\u001B[91m╸\u001B[0m\u001B[90m━\u001B[0m \u001B[32m49.5/51.0 MB\u001B[0m \u001B[31m13.0 MB/s\u001B[0m eta \u001B[36m0:00:01\u001B[0m\r\n",
      "  \u001B[2K   \u001B[91m━━━━━━━━━━━━━━━━━━━━━━━━━━━━━━━━━━━━━━━\u001B[0m\u001B[90m╺\u001B[0m \u001B[32m50.0/51.0 MB\u001B[0m \u001B[31m13.1 MB/s\u001B[0m eta \u001B[36m0:00:01\u001B[0m\r\n",
      "  \u001B[2K   \u001B[91m━━━━━━━━━━━━━━━━━━━━━━━━━━━━━━━━━━━━━━━\u001B[0m\u001B[91m╸\u001B[0m \u001B[32m50.6/51.0 MB\u001B[0m \u001B[31m13.7 MB/s\u001B[0m eta \u001B[36m0:00:01\u001B[0m\r\n",
      "  \u001B[2K   \u001B[91m━━━━━━━━━━━━━━━━━━━━━━━━━━━━━━━━━━━━━━━\u001B[0m\u001B[91m╸\u001B[0m \u001B[32m51.0/51.0 MB\u001B[0m \u001B[31m13.6 MB/s\u001B[0m eta \u001B[36m0:00:01\u001B[0m\r\n",
      "  \u001B[2K   \u001B[90m━━━━━━━━━━━━━━━━━━━━━━━━━━━━━━━━━━━━━━━━\u001B[0m \u001B[32m51.0/51.0 MB\u001B[0m \u001B[31m13.2 MB/s\u001B[0m eta \u001B[36m0:00:00\u001B[0m\r\n",
      "  \u001B[?25hDownloading ninja-1.11.1.1-py2.py3-none-macosx_10_9_universal2.macosx_10_9_x86_64.macosx_11_0_arm64.macosx_11_0_universal2.whl (270 kB)\r\n",
      "  \u001B[?25l   \u001B[90m━━━━━━━━━━━━━━━━━━━━━━━━━━━━━━━━━━━━━━━━\u001B[0m \u001B[32m0.0/270.6 kB\u001B[0m \u001B[31m?\u001B[0m eta \u001B[36m-:--:--\u001B[0m\r\n",
      "  \u001B[2K   \u001B[90m━━━━━━━━━━━━━━━━━━━━━━━━━━━━━━━━━━━━━━━━\u001B[0m \u001B[32m270.6/270.6 kB\u001B[0m \u001B[31m9.5 MB/s\u001B[0m eta \u001B[36m0:00:00\u001B[0m\r\n",
      "  \u001B[?25hUsing cached wheel-0.43.0-py3-none-any.whl (65 kB)\r\n",
      "  Using cached distro-1.9.0-py3-none-any.whl (20 kB)\r\n",
      "  Using cached packaging-24.0-py3-none-any.whl (53 kB)\r\n",
      "  Installing collected packages: ninja, wheel, setuptools, packaging, distro, cmake, scikit-build\r\n",
      "  \u001B[31mERROR: pip's dependency resolver does not currently take into account all the packages that are installed. This behaviour is the source of the following dependency conflicts.\r\n",
      "  roboflow 1.1.24 requires certifi==2023.7.22, but you have certifi 2024.2.2 which is incompatible.\r\n",
      "  roboflow 1.1.24 requires opencv-python-headless==4.8.0.74, but you have opencv-python-headless 4.9.0.80 which is incompatible.\u001B[0m\u001B[31m\r\n",
      "  \u001B[0mSuccessfully installed cmake-3.29.1 distro-1.9.0 ninja-1.11.1.1 packaging-24.0 scikit-build-0.17.6 setuptools-69.2.0 wheel-0.43.0\r\n",
      "  Installing build dependencies ... \u001B[?25l\u001B[?25hdone\r\n",
      "  Running command Getting requirements to build wheel\r\n",
      "  running egg_info\r\n",
      "  writing llama_cpp_python.egg-info/PKG-INFO\r\n",
      "  writing dependency_links to llama_cpp_python.egg-info/dependency_links.txt\r\n",
      "  writing requirements to llama_cpp_python.egg-info/requires.txt\r\n",
      "  writing top-level names to llama_cpp_python.egg-info/top_level.txt\r\n",
      "  reading manifest file 'llama_cpp_python.egg-info/SOURCES.txt'\r\n",
      "  adding license file 'LICENSE.md'\r\n",
      "  writing manifest file 'llama_cpp_python.egg-info/SOURCES.txt'\r\n",
      "  Getting requirements to build wheel ... \u001B[?25l\u001B[?25hdone\r\n",
      "  Running command Preparing metadata (pyproject.toml)\r\n",
      "  running dist_info\r\n",
      "  creating /private/var/folders/dz/jwsh6c0n1dbggmj5h81696zw0000gn/T/pip-modern-metadata-rt36fkd1/llama_cpp_python.egg-info\r\n",
      "  writing /private/var/folders/dz/jwsh6c0n1dbggmj5h81696zw0000gn/T/pip-modern-metadata-rt36fkd1/llama_cpp_python.egg-info/PKG-INFO\r\n",
      "  writing dependency_links to /private/var/folders/dz/jwsh6c0n1dbggmj5h81696zw0000gn/T/pip-modern-metadata-rt36fkd1/llama_cpp_python.egg-info/dependency_links.txt\r\n",
      "  writing requirements to /private/var/folders/dz/jwsh6c0n1dbggmj5h81696zw0000gn/T/pip-modern-metadata-rt36fkd1/llama_cpp_python.egg-info/requires.txt\r\n",
      "  writing top-level names to /private/var/folders/dz/jwsh6c0n1dbggmj5h81696zw0000gn/T/pip-modern-metadata-rt36fkd1/llama_cpp_python.egg-info/top_level.txt\r\n",
      "  writing manifest file '/private/var/folders/dz/jwsh6c0n1dbggmj5h81696zw0000gn/T/pip-modern-metadata-rt36fkd1/llama_cpp_python.egg-info/SOURCES.txt'\r\n",
      "  reading manifest file '/private/var/folders/dz/jwsh6c0n1dbggmj5h81696zw0000gn/T/pip-modern-metadata-rt36fkd1/llama_cpp_python.egg-info/SOURCES.txt'\r\n",
      "  adding license file 'LICENSE.md'\r\n",
      "  writing manifest file '/private/var/folders/dz/jwsh6c0n1dbggmj5h81696zw0000gn/T/pip-modern-metadata-rt36fkd1/llama_cpp_python.egg-info/SOURCES.txt'\r\n",
      "  creating '/private/var/folders/dz/jwsh6c0n1dbggmj5h81696zw0000gn/T/pip-modern-metadata-rt36fkd1/llama_cpp_python-0.1.78.dist-info'\r\n",
      "  Preparing metadata (pyproject.toml) ... \u001B[?25l\u001B[?25hdone\r\n",
      "  Link requires a different Python (3.11.7 not in: '>=3.7,<3.11'): https://files.pythonhosted.org/packages/3a/be/650f9c091ef71cb01d735775d554e068752d3ff63d7943b26316dc401749/numpy-1.21.2.zip (from https://pypi.org/simple/numpy/) (requires-python:>=3.7,<3.11)\r\n",
      "  Link requires a different Python (3.11.7 not in: '>=3.7,<3.11'): https://files.pythonhosted.org/packages/5f/d6/ad58ded26556eaeaa8c971e08b6466f17c4ac4d786cd3d800e26ce59cc01/numpy-1.21.3.zip (from https://pypi.org/simple/numpy/) (requires-python:>=3.7,<3.11)\r\n",
      "  Link requires a different Python (3.11.7 not in: '>=3.7,<3.11'): https://files.pythonhosted.org/packages/fb/48/b0708ebd7718a8933f0d3937513ef8ef2f4f04529f1f66ca86d873043921/numpy-1.21.4.zip (from https://pypi.org/simple/numpy/) (requires-python:>=3.7,<3.11)\r\n",
      "  Link requires a different Python (3.11.7 not in: '>=3.7,<3.11'): https://files.pythonhosted.org/packages/c2/a8/a924a09492bdfee8c2ec3094d0a13f2799800b4fdc9c890738aeeb12c72e/numpy-1.21.5.zip (from https://pypi.org/simple/numpy/) (requires-python:>=3.7,<3.11)\r\n",
      "  Link requires a different Python (3.11.7 not in: '>=3.7,<3.11'): https://files.pythonhosted.org/packages/45/b7/de7b8e67f2232c26af57c205aaad29fe17754f793404f59c8a730c7a191a/numpy-1.21.6.zip (from https://pypi.org/simple/numpy/) (requires-python:>=3.7,<3.11)\r\n",
      "Collecting numpy==1.23.4\r\n",
      "  Obtaining dependency information for numpy==1.23.4 from https://files.pythonhosted.org/packages/04/d4/12493d1ed7d6bd5a29016eea021a32011aef266d23a9a4fdefd5ad520eed/numpy-1.23.4-cp311-cp311-macosx_11_0_arm64.whl.metadata\r\n",
      "  Downloading numpy-1.23.4-cp311-cp311-macosx_11_0_arm64.whl.metadata (2.3 kB)\r\n",
      "Collecting typing-extensions>=4.5.0 (from llama-cpp-python==0.1.78)\r\n",
      "  Obtaining dependency information for typing-extensions>=4.5.0 from https://files.pythonhosted.org/packages/01/f3/936e209267d6ef7510322191003885de524fc48d1b43269810cd589ceaf5/typing_extensions-4.11.0-py3-none-any.whl.metadata\r\n",
      "  Downloading typing_extensions-4.11.0-py3-none-any.whl.metadata (3.0 kB)\r\n",
      "Collecting diskcache>=5.6.1 (from llama-cpp-python==0.1.78)\r\n",
      "  Obtaining dependency information for diskcache>=5.6.1 from https://files.pythonhosted.org/packages/3f/27/4570e78fc0bf5ea0ca45eb1de3818a23787af9b390c0b0a0033a1b8236f9/diskcache-5.6.3-py3-none-any.whl.metadata\r\n",
      "  Downloading diskcache-5.6.3-py3-none-any.whl.metadata (20 kB)\r\n",
      "Downloading numpy-1.23.4-cp311-cp311-macosx_11_0_arm64.whl (13.3 MB)\r\n",
      "\u001B[2K   \u001B[90m━━━━━━━━━━━━━━━━━━━━━━━━━━━━━━━━━━━━━━━━\u001B[0m \u001B[32m13.3/13.3 MB\u001B[0m \u001B[31m9.7 MB/s\u001B[0m eta \u001B[36m0:00:00\u001B[0m00:01\u001B[0m00:01\u001B[0mm\r\n",
      "\u001B[?25hDownloading diskcache-5.6.3-py3-none-any.whl (45 kB)\r\n",
      "\u001B[2K   \u001B[90m━━━━━━━━━━━━━━━━━━━━━━━━━━━━━━━━━━━━━━━━\u001B[0m \u001B[32m45.5/45.5 kB\u001B[0m \u001B[31m22.3 MB/s\u001B[0m eta \u001B[36m0:00:00\u001B[0m\r\n",
      "\u001B[?25hDownloading typing_extensions-4.11.0-py3-none-any.whl (34 kB)\r\n",
      "Building wheels for collected packages: llama-cpp-python\r\n",
      "  Running command Building wheel for llama-cpp-python (pyproject.toml)\r\n",
      "\r\n",
      "\r\n",
      "  --------------------------------------------------------------------------------\r\n",
      "  -- Trying 'Ninja' generator\r\n",
      "  --------------------------------\r\n",
      "  ---------------------------\r\n",
      "  ----------------------\r\n",
      "  -----------------\r\n",
      "  ------------\r\n",
      "  -------\r\n",
      "  --\r\n",
      "  \u001B[0mCMake Deprecation Warning at CMakeLists.txt:1 (cmake_minimum_required):\r\n",
      "    Compatibility with CMake < 3.5 will be removed from a future version of\r\n",
      "    CMake.\r\n",
      "\r\n",
      "    Update the VERSION argument <min> value or use a ...<max> suffix to tell\r\n",
      "    CMake that the project does not need compatibility with older versions.\r\n",
      "\r\n",
      "  \u001B[0mNot searching for unused variables given on the command line.\r\n",
      "\r\n",
      "  -- The C compiler identification is AppleClang 15.0.0.15000309\r\n",
      "  -- Detecting C compiler ABI info\r\n",
      "  -- Detecting C compiler ABI info - done\r\n",
      "  -- Check for working C compiler: /Library/Developer/CommandLineTools/usr/bin/cc - skipped\r\n",
      "  -- Detecting C compile features\r\n",
      "  -- Detecting C compile features - done\r\n",
      "  -- The CXX compiler identification is AppleClang 15.0.0.15000309\r\n",
      "  -- Detecting CXX compiler ABI info\r\n",
      "  -- Detecting CXX compiler ABI info - done\r\n",
      "  -- Check for working CXX compiler: /Library/Developer/CommandLineTools/usr/bin/c++ - skipped\r\n",
      "  -- Detecting CXX compile features\r\n",
      "  -- Detecting CXX compile features - done\r\n",
      "  -- Configuring done (0.7s)\r\n",
      "  -- Generating done (0.0s)\r\n",
      "  -- Build files have been written to: /private/var/folders/dz/jwsh6c0n1dbggmj5h81696zw0000gn/T/pip-install-id08o9vn/llama-cpp-python_0f15634b07d546a19c85665102d956a7/_cmake_test_compile/build\r\n",
      "  --\r\n",
      "  -------\r\n",
      "  ------------\r\n",
      "  -----------------\r\n",
      "  ----------------------\r\n",
      "  ---------------------------\r\n",
      "  --------------------------------\r\n",
      "  -- Trying 'Ninja' generator - success\r\n",
      "  --------------------------------------------------------------------------------\r\n",
      "\r\n",
      "  Configuring Project\r\n",
      "    Working directory:\r\n",
      "      /private/var/folders/dz/jwsh6c0n1dbggmj5h81696zw0000gn/T/pip-install-id08o9vn/llama-cpp-python_0f15634b07d546a19c85665102d956a7/_skbuild/macosx-14.0-arm64-3.11/cmake-build\r\n",
      "    Command:\r\n",
      "      /private/var/folders/dz/jwsh6c0n1dbggmj5h81696zw0000gn/T/pip-build-env-70p5vk0f/overlay/lib/python3.11/site-packages/cmake/data/bin/cmake /private/var/folders/dz/jwsh6c0n1dbggmj5h81696zw0000gn/T/pip-install-id08o9vn/llama-cpp-python_0f15634b07d546a19c85665102d956a7 -G Ninja -DCMAKE_MAKE_PROGRAM:FILEPATH=/private/var/folders/dz/jwsh6c0n1dbggmj5h81696zw0000gn/T/pip-build-env-70p5vk0f/overlay/lib/python3.11/site-packages/ninja/data/bin/ninja --no-warn-unused-cli -DCMAKE_INSTALL_PREFIX:PATH=/private/var/folders/dz/jwsh6c0n1dbggmj5h81696zw0000gn/T/pip-install-id08o9vn/llama-cpp-python_0f15634b07d546a19c85665102d956a7/_skbuild/macosx-14.0-arm64-3.11/cmake-install -DPYTHON_VERSION_STRING:STRING=3.11.7 -DSKBUILD:INTERNAL=TRUE -DCMAKE_MODULE_PATH:PATH=/private/var/folders/dz/jwsh6c0n1dbggmj5h81696zw0000gn/T/pip-build-env-70p5vk0f/overlay/lib/python3.11/site-packages/skbuild/resources/cmake -DPYTHON_EXECUTABLE:PATH=/Library/Frameworks/Python.framework/Versions/3.11/bin/python3.11 -DPYTHON_INCLUDE_DIR:PATH=/Library/Frameworks/Python.framework/Versions/3.11/include/python3.11 -DPYTHON_LIBRARY:PATH=/Library/Frameworks/Python.framework/Versions/3.11/lib/libpython3.11.dylib -DPython_EXECUTABLE:PATH=/Library/Frameworks/Python.framework/Versions/3.11/bin/python3.11 -DPython_ROOT_DIR:PATH=/Library/Frameworks/Python.framework/Versions/3.11 -DPython_FIND_REGISTRY:STRING=NEVER -DPython_INCLUDE_DIR:PATH=/Library/Frameworks/Python.framework/Versions/3.11/include/python3.11 -DPython3_EXECUTABLE:PATH=/Library/Frameworks/Python.framework/Versions/3.11/bin/python3.11 -DPython3_ROOT_DIR:PATH=/Library/Frameworks/Python.framework/Versions/3.11 -DPython3_FIND_REGISTRY:STRING=NEVER -DPython3_INCLUDE_DIR:PATH=/Library/Frameworks/Python.framework/Versions/3.11/include/python3.11 -DCMAKE_MAKE_PROGRAM:FILEPATH=/private/var/folders/dz/jwsh6c0n1dbggmj5h81696zw0000gn/T/pip-build-env-70p5vk0f/overlay/lib/python3.11/site-packages/ninja/data/bin/ninja -DLLAMA_CUBLAS=on -DCMAKE_OSX_DEPLOYMENT_TARGET:STRING=14.0 -DCMAKE_OSX_ARCHITECTURES:STRING=arm64 -DCMAKE_BUILD_TYPE:STRING=Release -DLLAMA_CUBLAS=on\r\n",
      "\r\n",
      "  Not searching for unused variables given on the command line.\r\n",
      "  -- The C compiler identification is AppleClang 15.0.0.15000309\r\n",
      "  -- The CXX compiler identification is AppleClang 15.0.0.15000309\r\n",
      "  -- Detecting C compiler ABI info\r\n",
      "  -- Detecting C compiler ABI info - done\r\n",
      "  -- Check for working C compiler: /Library/Developer/CommandLineTools/usr/bin/cc - skipped\r\n",
      "  -- Detecting C compile features\r\n",
      "  -- Detecting C compile features - done\r\n",
      "  -- Detecting CXX compiler ABI info\r\n",
      "  -- Detecting CXX compiler ABI info - done\r\n",
      "  -- Check for working CXX compiler: /Library/Developer/CommandLineTools/usr/bin/c++ - skipped\r\n",
      "  -- Detecting CXX compile features\r\n",
      "  -- Detecting CXX compile features - done\r\n",
      "  -- Found Git: /opt/homebrew/bin/git (found version \"2.44.0\")\r\n",
      "  fatal: not a git repository (or any of the parent directories): .git\r\n",
      "  fatal: not a git repository (or any of the parent directories): .git\r\n",
      "  \u001B[33mCMake Warning at vendor/llama.cpp/CMakeLists.txt:117 (message):\r\n",
      "    Git repository not found; to enable automatic generation of build info,\r\n",
      "    make sure Git is installed and the project is a Git repository.\r\n",
      "\r\n",
      "  \u001B[0m\r\n",
      "  -- Performing Test CMAKE_HAVE_LIBC_PTHREAD\r\n",
      "  -- Performing Test CMAKE_HAVE_LIBC_PTHREAD - Success\r\n",
      "  -- Found Threads: TRUE\r\n",
      "  -- Accelerate framework found\r\n",
      "  -- Could not find nvcc, please set CUDAToolkit_ROOT.\r\n",
      "  \u001B[33mCMake Warning at vendor/llama.cpp/CMakeLists.txt:291 (message):\r\n",
      "    cuBLAS not found\r\n",
      "\r\n",
      "  \u001B[0m\r\n",
      "  -- CMAKE_SYSTEM_PROCESSOR: arm64\r\n",
      "  -- ARM detected\r\n",
      "  -- Configuring done (0.4s)\r\n",
      "  -- Generating done (0.0s)\r\n",
      "  -- Build files have been written to: /private/var/folders/dz/jwsh6c0n1dbggmj5h81696zw0000gn/T/pip-install-id08o9vn/llama-cpp-python_0f15634b07d546a19c85665102d956a7/_skbuild/macosx-14.0-arm64-3.11/cmake-build\r\n",
      "  [1/8] Building C object vendor/llama.cpp/CMakeFiles/ggml.dir/ggml-alloc.c.o\r\n",
      "  [2/8] Building C object vendor/llama.cpp/CMakeFiles/ggml.dir/k_quants.c.o\r\n",
      "  [3/8] Building CXX object vendor/llama.cpp/CMakeFiles/llama.dir/llama.cpp.o\r\n",
      "  [4/8] Building C object vendor/llama.cpp/CMakeFiles/ggml.dir/ggml.c.o\r\n",
      "  /private/var/folders/dz/jwsh6c0n1dbggmj5h81696zw0000gn/T/pip-install-id08o9vn/llama-cpp-python_0f15634b07d546a19c85665102d956a7/vendor/llama.cpp/ggml.c:10698:17: warning: 'cblas_sgemm' is deprecated: first deprecated in macOS 13.3 - An updated CBLAS interface supporting ILP64 is available.  Please compile with -DACCELERATE_NEW_LAPACK to access the new headers and -DACCELERATE_LAPACK_ILP64 for ILP64 support. [-Wdeprecated-declarations]\r\n",
      "                  cblas_sgemm(CblasRowMajor, CblasNoTrans, CblasTrans,\r\n",
      "                  ^\r\n",
      "  /Library/Developer/CommandLineTools/SDKs/MacOSX14.4.sdk/System/Library/Frameworks/vecLib.framework/Headers/cblas.h:610:6: note: 'cblas_sgemm' has been explicitly marked deprecated here\r\n",
      "  void cblas_sgemm(const enum CBLAS_ORDER __Order,\r\n",
      "       ^\r\n",
      "  1 warning generated.\r\n",
      "  [5/8] Linking CXX shared library vendor/llama.cpp/libllama.dylib\r\n",
      "  [6/8] Linking C shared library vendor/llama.cpp/libggml_shared.dylib\r\n",
      "  [7/8] Linking C static library vendor/llama.cpp/libggml_static.a\r\n",
      "  [7/8] Install the project...\r\n",
      "  -- Install configuration: \"Release\"\r\n",
      "  -- Installing: /private/var/folders/dz/jwsh6c0n1dbggmj5h81696zw0000gn/T/pip-install-id08o9vn/llama-cpp-python_0f15634b07d546a19c85665102d956a7/_skbuild/macosx-14.0-arm64-3.11/cmake-install/lib/libggml_shared.dylib\r\n",
      "  -- Installing: /private/var/folders/dz/jwsh6c0n1dbggmj5h81696zw0000gn/T/pip-install-id08o9vn/llama-cpp-python_0f15634b07d546a19c85665102d956a7/_skbuild/macosx-14.0-arm64-3.11/cmake-install/lib/libllama.dylib\r\n",
      "  -- Installing: /private/var/folders/dz/jwsh6c0n1dbggmj5h81696zw0000gn/T/pip-install-id08o9vn/llama-cpp-python_0f15634b07d546a19c85665102d956a7/_skbuild/macosx-14.0-arm64-3.11/cmake-install/bin/convert.py\r\n",
      "  -- Installing: /private/var/folders/dz/jwsh6c0n1dbggmj5h81696zw0000gn/T/pip-install-id08o9vn/llama-cpp-python_0f15634b07d546a19c85665102d956a7/_skbuild/macosx-14.0-arm64-3.11/cmake-install/bin/convert-lora-to-ggml.py\r\n",
      "  -- Installing: /private/var/folders/dz/jwsh6c0n1dbggmj5h81696zw0000gn/T/pip-install-id08o9vn/llama-cpp-python_0f15634b07d546a19c85665102d956a7/_skbuild/macosx-14.0-arm64-3.11/cmake-install/llama_cpp/libllama.dylib\r\n",
      "\r\n",
      "  copying llama_cpp/llama_types.py -> _skbuild/macosx-14.0-arm64-3.11/cmake-install/llama_cpp/llama_types.py\r\n",
      "  copying llama_cpp/__init__.py -> _skbuild/macosx-14.0-arm64-3.11/cmake-install/llama_cpp/__init__.py\r\n",
      "  copying llama_cpp/llama_cpp.py -> _skbuild/macosx-14.0-arm64-3.11/cmake-install/llama_cpp/llama_cpp.py\r\n",
      "  copying llama_cpp/llama.py -> _skbuild/macosx-14.0-arm64-3.11/cmake-install/llama_cpp/llama.py\r\n",
      "  copying llama_cpp/utils.py -> _skbuild/macosx-14.0-arm64-3.11/cmake-install/llama_cpp/utils.py\r\n",
      "  copying llama_cpp/llama_grammar.py -> _skbuild/macosx-14.0-arm64-3.11/cmake-install/llama_cpp/llama_grammar.py\r\n",
      "  creating directory _skbuild/macosx-14.0-arm64-3.11/cmake-install/llama_cpp/server\r\n",
      "  copying llama_cpp/server/__init__.py -> _skbuild/macosx-14.0-arm64-3.11/cmake-install/llama_cpp/server/__init__.py\r\n",
      "  copying llama_cpp/server/app.py -> _skbuild/macosx-14.0-arm64-3.11/cmake-install/llama_cpp/server/app.py\r\n",
      "  copying llama_cpp/server/__main__.py -> _skbuild/macosx-14.0-arm64-3.11/cmake-install/llama_cpp/server/__main__.py\r\n",
      "  copying /private/var/folders/dz/jwsh6c0n1dbggmj5h81696zw0000gn/T/pip-install-id08o9vn/llama-cpp-python_0f15634b07d546a19c85665102d956a7/llama_cpp/py.typed -> _skbuild/macosx-14.0-arm64-3.11/cmake-install/llama_cpp/py.typed\r\n",
      "\r\n",
      "  running bdist_wheel\r\n",
      "  running build\r\n",
      "  running build_py\r\n",
      "  creating _skbuild/macosx-14.0-arm64-3.11/setuptools/lib.macosx-14.0-arm64-cpython-311\r\n",
      "  creating _skbuild/macosx-14.0-arm64-3.11/setuptools/lib.macosx-14.0-arm64-cpython-311/llama_cpp\r\n",
      "  copying _skbuild/macosx-14.0-arm64-3.11/cmake-install/llama_cpp/llama_types.py -> _skbuild/macosx-14.0-arm64-3.11/setuptools/lib.macosx-14.0-arm64-cpython-311/llama_cpp\r\n",
      "  copying _skbuild/macosx-14.0-arm64-3.11/cmake-install/llama_cpp/__init__.py -> _skbuild/macosx-14.0-arm64-3.11/setuptools/lib.macosx-14.0-arm64-cpython-311/llama_cpp\r\n",
      "  copying _skbuild/macosx-14.0-arm64-3.11/cmake-install/llama_cpp/llama_cpp.py -> _skbuild/macosx-14.0-arm64-3.11/setuptools/lib.macosx-14.0-arm64-cpython-311/llama_cpp\r\n",
      "  copying _skbuild/macosx-14.0-arm64-3.11/cmake-install/llama_cpp/llama.py -> _skbuild/macosx-14.0-arm64-3.11/setuptools/lib.macosx-14.0-arm64-cpython-311/llama_cpp\r\n",
      "  copying _skbuild/macosx-14.0-arm64-3.11/cmake-install/llama_cpp/utils.py -> _skbuild/macosx-14.0-arm64-3.11/setuptools/lib.macosx-14.0-arm64-cpython-311/llama_cpp\r\n",
      "  copying _skbuild/macosx-14.0-arm64-3.11/cmake-install/llama_cpp/llama_grammar.py -> _skbuild/macosx-14.0-arm64-3.11/setuptools/lib.macosx-14.0-arm64-cpython-311/llama_cpp\r\n",
      "  creating _skbuild/macosx-14.0-arm64-3.11/setuptools/lib.macosx-14.0-arm64-cpython-311/llama_cpp/server\r\n",
      "  copying _skbuild/macosx-14.0-arm64-3.11/cmake-install/llama_cpp/server/__init__.py -> _skbuild/macosx-14.0-arm64-3.11/setuptools/lib.macosx-14.0-arm64-cpython-311/llama_cpp/server\r\n",
      "  copying _skbuild/macosx-14.0-arm64-3.11/cmake-install/llama_cpp/server/app.py -> _skbuild/macosx-14.0-arm64-3.11/setuptools/lib.macosx-14.0-arm64-cpython-311/llama_cpp/server\r\n",
      "  copying _skbuild/macosx-14.0-arm64-3.11/cmake-install/llama_cpp/server/__main__.py -> _skbuild/macosx-14.0-arm64-3.11/setuptools/lib.macosx-14.0-arm64-cpython-311/llama_cpp/server\r\n",
      "  copying _skbuild/macosx-14.0-arm64-3.11/cmake-install/llama_cpp/py.typed -> _skbuild/macosx-14.0-arm64-3.11/setuptools/lib.macosx-14.0-arm64-cpython-311/llama_cpp\r\n",
      "  copying _skbuild/macosx-14.0-arm64-3.11/cmake-install/llama_cpp/libllama.dylib -> _skbuild/macosx-14.0-arm64-3.11/setuptools/lib.macosx-14.0-arm64-cpython-311/llama_cpp\r\n",
      "  copying _skbuild/macosx-14.0-arm64-3.11/cmake-install/llama_cpp/llama_types.py -> _skbuild/macosx-14.0-arm64-3.11/setuptools/lib.macosx-14.0-arm64-cpython-311/llama_cpp\r\n",
      "  copying _skbuild/macosx-14.0-arm64-3.11/cmake-install/llama_cpp/__init__.py -> _skbuild/macosx-14.0-arm64-3.11/setuptools/lib.macosx-14.0-arm64-cpython-311/llama_cpp\r\n",
      "  copying _skbuild/macosx-14.0-arm64-3.11/cmake-install/llama_cpp/llama_cpp.py -> _skbuild/macosx-14.0-arm64-3.11/setuptools/lib.macosx-14.0-arm64-cpython-311/llama_cpp\r\n",
      "  copying _skbuild/macosx-14.0-arm64-3.11/cmake-install/llama_cpp/llama.py -> _skbuild/macosx-14.0-arm64-3.11/setuptools/lib.macosx-14.0-arm64-cpython-311/llama_cpp\r\n",
      "  copying _skbuild/macosx-14.0-arm64-3.11/cmake-install/llama_cpp/utils.py -> _skbuild/macosx-14.0-arm64-3.11/setuptools/lib.macosx-14.0-arm64-cpython-311/llama_cpp\r\n",
      "  copying _skbuild/macosx-14.0-arm64-3.11/cmake-install/llama_cpp/llama_grammar.py -> _skbuild/macosx-14.0-arm64-3.11/setuptools/lib.macosx-14.0-arm64-cpython-311/llama_cpp\r\n",
      "  copying _skbuild/macosx-14.0-arm64-3.11/cmake-install/llama_cpp/server/__init__.py -> _skbuild/macosx-14.0-arm64-3.11/setuptools/lib.macosx-14.0-arm64-cpython-311/llama_cpp/server\r\n",
      "  copying _skbuild/macosx-14.0-arm64-3.11/cmake-install/llama_cpp/server/app.py -> _skbuild/macosx-14.0-arm64-3.11/setuptools/lib.macosx-14.0-arm64-cpython-311/llama_cpp/server\r\n",
      "  copying _skbuild/macosx-14.0-arm64-3.11/cmake-install/llama_cpp/server/__main__.py -> _skbuild/macosx-14.0-arm64-3.11/setuptools/lib.macosx-14.0-arm64-cpython-311/llama_cpp/server\r\n",
      "  copied 9 files\r\n",
      "  running build_ext\r\n",
      "  installing to _skbuild/macosx-14.0-arm64-3.11/setuptools/bdist.macosx-14.0-arm64/wheel\r\n",
      "  running install\r\n",
      "  running install_lib\r\n",
      "  creating _skbuild/macosx-14.0-arm64-3.11/setuptools/bdist.macosx-14.0-arm64\r\n",
      "  creating _skbuild/macosx-14.0-arm64-3.11/setuptools/bdist.macosx-14.0-arm64/wheel\r\n",
      "  creating _skbuild/macosx-14.0-arm64-3.11/setuptools/bdist.macosx-14.0-arm64/wheel/llama_cpp\r\n",
      "  copying _skbuild/macosx-14.0-arm64-3.11/setuptools/lib.macosx-14.0-arm64-cpython-311/llama_cpp/llama_types.py -> _skbuild/macosx-14.0-arm64-3.11/setuptools/bdist.macosx-14.0-arm64/wheel/llama_cpp\r\n",
      "  copying _skbuild/macosx-14.0-arm64-3.11/setuptools/lib.macosx-14.0-arm64-cpython-311/llama_cpp/__init__.py -> _skbuild/macosx-14.0-arm64-3.11/setuptools/bdist.macosx-14.0-arm64/wheel/llama_cpp\r\n",
      "  copying _skbuild/macosx-14.0-arm64-3.11/setuptools/lib.macosx-14.0-arm64-cpython-311/llama_cpp/llama_cpp.py -> _skbuild/macosx-14.0-arm64-3.11/setuptools/bdist.macosx-14.0-arm64/wheel/llama_cpp\r\n",
      "  creating _skbuild/macosx-14.0-arm64-3.11/setuptools/bdist.macosx-14.0-arm64/wheel/llama_cpp/server\r\n",
      "  copying _skbuild/macosx-14.0-arm64-3.11/setuptools/lib.macosx-14.0-arm64-cpython-311/llama_cpp/server/__init__.py -> _skbuild/macosx-14.0-arm64-3.11/setuptools/bdist.macosx-14.0-arm64/wheel/llama_cpp/server\r\n",
      "  copying _skbuild/macosx-14.0-arm64-3.11/setuptools/lib.macosx-14.0-arm64-cpython-311/llama_cpp/server/app.py -> _skbuild/macosx-14.0-arm64-3.11/setuptools/bdist.macosx-14.0-arm64/wheel/llama_cpp/server\r\n",
      "  copying _skbuild/macosx-14.0-arm64-3.11/setuptools/lib.macosx-14.0-arm64-cpython-311/llama_cpp/server/__main__.py -> _skbuild/macosx-14.0-arm64-3.11/setuptools/bdist.macosx-14.0-arm64/wheel/llama_cpp/server\r\n",
      "  copying _skbuild/macosx-14.0-arm64-3.11/setuptools/lib.macosx-14.0-arm64-cpython-311/llama_cpp/libllama.dylib -> _skbuild/macosx-14.0-arm64-3.11/setuptools/bdist.macosx-14.0-arm64/wheel/llama_cpp\r\n",
      "  copying _skbuild/macosx-14.0-arm64-3.11/setuptools/lib.macosx-14.0-arm64-cpython-311/llama_cpp/llama.py -> _skbuild/macosx-14.0-arm64-3.11/setuptools/bdist.macosx-14.0-arm64/wheel/llama_cpp\r\n",
      "  copying _skbuild/macosx-14.0-arm64-3.11/setuptools/lib.macosx-14.0-arm64-cpython-311/llama_cpp/utils.py -> _skbuild/macosx-14.0-arm64-3.11/setuptools/bdist.macosx-14.0-arm64/wheel/llama_cpp\r\n",
      "  copying _skbuild/macosx-14.0-arm64-3.11/setuptools/lib.macosx-14.0-arm64-cpython-311/llama_cpp/llama_grammar.py -> _skbuild/macosx-14.0-arm64-3.11/setuptools/bdist.macosx-14.0-arm64/wheel/llama_cpp\r\n",
      "  copying _skbuild/macosx-14.0-arm64-3.11/setuptools/lib.macosx-14.0-arm64-cpython-311/llama_cpp/py.typed -> _skbuild/macosx-14.0-arm64-3.11/setuptools/bdist.macosx-14.0-arm64/wheel/llama_cpp\r\n",
      "  copied 11 files\r\n",
      "  running install_data\r\n",
      "  creating _skbuild/macosx-14.0-arm64-3.11/setuptools/bdist.macosx-14.0-arm64/wheel/llama_cpp_python-0.1.78.data\r\n",
      "  creating _skbuild/macosx-14.0-arm64-3.11/setuptools/bdist.macosx-14.0-arm64/wheel/llama_cpp_python-0.1.78.data/data\r\n",
      "  creating _skbuild/macosx-14.0-arm64-3.11/setuptools/bdist.macosx-14.0-arm64/wheel/llama_cpp_python-0.1.78.data/data/lib\r\n",
      "  copying _skbuild/macosx-14.0-arm64-3.11/cmake-install/lib/libggml_shared.dylib -> _skbuild/macosx-14.0-arm64-3.11/setuptools/bdist.macosx-14.0-arm64/wheel/llama_cpp_python-0.1.78.data/data/lib\r\n",
      "  copying _skbuild/macosx-14.0-arm64-3.11/cmake-install/lib/libllama.dylib -> _skbuild/macosx-14.0-arm64-3.11/setuptools/bdist.macosx-14.0-arm64/wheel/llama_cpp_python-0.1.78.data/data/lib\r\n",
      "  creating _skbuild/macosx-14.0-arm64-3.11/setuptools/bdist.macosx-14.0-arm64/wheel/llama_cpp_python-0.1.78.data/data/bin\r\n",
      "  copying _skbuild/macosx-14.0-arm64-3.11/cmake-install/bin/convert-lora-to-ggml.py -> _skbuild/macosx-14.0-arm64-3.11/setuptools/bdist.macosx-14.0-arm64/wheel/llama_cpp_python-0.1.78.data/data/bin\r\n",
      "  copying _skbuild/macosx-14.0-arm64-3.11/cmake-install/bin/convert.py -> _skbuild/macosx-14.0-arm64-3.11/setuptools/bdist.macosx-14.0-arm64/wheel/llama_cpp_python-0.1.78.data/data/bin\r\n",
      "  running install_egg_info\r\n",
      "  running egg_info\r\n",
      "  writing llama_cpp_python.egg-info/PKG-INFO\r\n",
      "  writing dependency_links to llama_cpp_python.egg-info/dependency_links.txt\r\n",
      "  writing requirements to llama_cpp_python.egg-info/requires.txt\r\n",
      "  writing top-level names to llama_cpp_python.egg-info/top_level.txt\r\n",
      "  reading manifest file 'llama_cpp_python.egg-info/SOURCES.txt'\r\n",
      "  adding license file 'LICENSE.md'\r\n",
      "  writing manifest file 'llama_cpp_python.egg-info/SOURCES.txt'\r\n",
      "  Copying llama_cpp_python.egg-info to _skbuild/macosx-14.0-arm64-3.11/setuptools/bdist.macosx-14.0-arm64/wheel/llama_cpp_python-0.1.78-py3.11.egg-info\r\n",
      "  running install_scripts\r\n",
      "  copied 0 files\r\n",
      "  creating _skbuild/macosx-14.0-arm64-3.11/setuptools/bdist.macosx-14.0-arm64/wheel/llama_cpp_python-0.1.78.dist-info/WHEEL\r\n",
      "  creating '/private/var/folders/dz/jwsh6c0n1dbggmj5h81696zw0000gn/T/pip-wheel-8cvqu88y/.tmp-kmj7bgph/llama_cpp_python-0.1.78-cp311-cp311-macosx_14_0_arm64.whl' and adding '_skbuild/macosx-14.0-arm64-3.11/setuptools/bdist.macosx-14.0-arm64/wheel' to it\r\n",
      "  adding 'llama_cpp/__init__.py'\r\n",
      "  adding 'llama_cpp/libllama.dylib'\r\n",
      "  adding 'llama_cpp/llama.py'\r\n",
      "  adding 'llama_cpp/llama_cpp.py'\r\n",
      "  adding 'llama_cpp/llama_grammar.py'\r\n",
      "  adding 'llama_cpp/llama_types.py'\r\n",
      "  adding 'llama_cpp/py.typed'\r\n",
      "  adding 'llama_cpp/utils.py'\r\n",
      "  adding 'llama_cpp/server/__init__.py'\r\n",
      "  adding 'llama_cpp/server/__main__.py'\r\n",
      "  adding 'llama_cpp/server/app.py'\r\n",
      "  adding 'llama_cpp_python-0.1.78.data/data/bin/convert-lora-to-ggml.py'\r\n",
      "  adding 'llama_cpp_python-0.1.78.data/data/bin/convert.py'\r\n",
      "  adding 'llama_cpp_python-0.1.78.data/data/lib/libggml_shared.dylib'\r\n",
      "  adding 'llama_cpp_python-0.1.78.data/data/lib/libllama.dylib'\r\n",
      "  adding 'llama_cpp_python-0.1.78.dist-info/LICENSE.md'\r\n",
      "  adding 'llama_cpp_python-0.1.78.dist-info/METADATA'\r\n",
      "  adding 'llama_cpp_python-0.1.78.dist-info/WHEEL'\r\n",
      "  adding 'llama_cpp_python-0.1.78.dist-info/top_level.txt'\r\n",
      "  adding 'llama_cpp_python-0.1.78.dist-info/RECORD'\r\n",
      "  removing _skbuild/macosx-14.0-arm64-3.11/setuptools/bdist.macosx-14.0-arm64/wheel\r\n",
      "  Building wheel for llama-cpp-python (pyproject.toml) ... \u001B[?25l\u001B[?25hdone\r\n",
      "  Created wheel for llama-cpp-python: filename=llama_cpp_python-0.1.78-cp311-cp311-macosx_14_0_arm64.whl size=596689 sha256=c3daa736476171979e0d2469fecbd9378f946dd7c3a2c64a53e4a29218552c25\r\n",
      "  Stored in directory: /private/var/folders/dz/jwsh6c0n1dbggmj5h81696zw0000gn/T/pip-ephem-wheel-cache-om1_n3rh/wheels/18/69/ad/9b1cec6b18fe403616b8cfbf10021d1939cba077cee285c5c3\r\n",
      "Successfully built llama-cpp-python\r\n",
      "Installing collected packages: typing-extensions, numpy, diskcache, llama-cpp-python\r\n",
      "  Attempting uninstall: typing-extensions\r\n",
      "    Found existing installation: typing_extensions 4.10.0\r\n",
      "    Uninstalling typing_extensions-4.10.0:\r\n",
      "      Removing file or directory /Library/Frameworks/Python.framework/Versions/3.11/lib/python3.11/site-packages/__pycache__/typing_extensions.cpython-311.pyc\r\n",
      "      Removing file or directory /Library/Frameworks/Python.framework/Versions/3.11/lib/python3.11/site-packages/typing_extensions-4.10.0.dist-info/\r\n",
      "      Removing file or directory /Library/Frameworks/Python.framework/Versions/3.11/lib/python3.11/site-packages/typing_extensions.py\r\n",
      "      Successfully uninstalled typing_extensions-4.10.0\r\n",
      "  Attempting uninstall: numpy\r\n",
      "    Found existing installation: numpy 1.26.4\r\n",
      "    Uninstalling numpy-1.26.4:\r\n",
      "      Removing file or directory /Library/Frameworks/Python.framework/Versions/3.11/bin/f2py\r\n",
      "      Removing file or directory /Library/Frameworks/Python.framework/Versions/3.11/lib/python3.11/site-packages/numpy-1.26.4.dist-info/\r\n",
      "      Removing file or directory /Library/Frameworks/Python.framework/Versions/3.11/lib/python3.11/site-packages/numpy/\r\n",
      "      Successfully uninstalled numpy-1.26.4\r\n",
      "  changing mode of /Library/Frameworks/Python.framework/Versions/3.11/bin/f2py to 755\r\n",
      "  changing mode of /Library/Frameworks/Python.framework/Versions/3.11/bin/f2py3 to 755\r\n",
      "  changing mode of /Library/Frameworks/Python.framework/Versions/3.11/bin/f2py3.11 to 755\r\n",
      "\u001B[31mERROR: pip's dependency resolver does not currently take into account all the packages that are installed. This behaviour is the source of the following dependency conflicts.\r\n",
      "tensorflow 2.16.1 requires numpy<2.0.0,>=1.23.5; python_version <= \"3.11\", but you have numpy 1.23.4 which is incompatible.\r\n",
      "opencv-python 4.9.0.80 requires numpy>=1.23.5; python_version >= \"3.11\", but you have numpy 1.23.4 which is incompatible.\r\n",
      "albumentations 1.4.2 requires numpy>=1.24.4, but you have numpy 1.23.4 which is incompatible.\r\n",
      "opencv-python-headless 4.9.0.80 requires numpy>=1.23.5; python_version >= \"3.11\", but you have numpy 1.23.4 which is incompatible.\r\n",
      "roboflow 1.1.24 requires certifi==2023.7.22, but you have certifi 2024.2.2 which is incompatible.\r\n",
      "roboflow 1.1.24 requires opencv-python-headless==4.8.0.74, but you have opencv-python-headless 4.9.0.80 which is incompatible.\u001B[0m\u001B[31m\r\n",
      "\u001B[0mSuccessfully installed diskcache-5.6.3 llama-cpp-python-0.1.78 numpy-1.23.4 typing-extensions-4.11.0\r\n",
      "Collecting huggingface_hub\r\n",
      "  Downloading huggingface_hub-0.22.2-py3-none-any.whl.metadata (12 kB)\r\n",
      "Requirement already satisfied: filelock in /Library/Frameworks/Python.framework/Versions/3.11/lib/python3.11/site-packages (from huggingface_hub) (3.13.1)\r\n",
      "Requirement already satisfied: fsspec>=2023.5.0 in /Library/Frameworks/Python.framework/Versions/3.11/lib/python3.11/site-packages (from huggingface_hub) (2023.6.0)\r\n",
      "Requirement already satisfied: packaging>=20.9 in /Library/Frameworks/Python.framework/Versions/3.11/lib/python3.11/site-packages (from huggingface_hub) (24.0)\r\n",
      "Requirement already satisfied: pyyaml>=5.1 in /Library/Frameworks/Python.framework/Versions/3.11/lib/python3.11/site-packages (from huggingface_hub) (6.0.1)\r\n",
      "Requirement already satisfied: requests in /Library/Frameworks/Python.framework/Versions/3.11/lib/python3.11/site-packages (from huggingface_hub) (2.31.0)\r\n",
      "Requirement already satisfied: tqdm>=4.42.1 in /Library/Frameworks/Python.framework/Versions/3.11/lib/python3.11/site-packages (from huggingface_hub) (4.66.2)\r\n",
      "Requirement already satisfied: typing-extensions>=3.7.4.3 in /Library/Frameworks/Python.framework/Versions/3.11/lib/python3.11/site-packages (from huggingface_hub) (4.11.0)\r\n",
      "Requirement already satisfied: charset-normalizer<4,>=2 in /Library/Frameworks/Python.framework/Versions/3.11/lib/python3.11/site-packages (from requests->huggingface_hub) (3.3.2)\r\n",
      "Requirement already satisfied: idna<4,>=2.5 in /Library/Frameworks/Python.framework/Versions/3.11/lib/python3.11/site-packages (from requests->huggingface_hub) (2.10)\r\n",
      "Requirement already satisfied: urllib3<3,>=1.21.1 in /Library/Frameworks/Python.framework/Versions/3.11/lib/python3.11/site-packages (from requests->huggingface_hub) (2.2.1)\r\n",
      "Requirement already satisfied: certifi>=2017.4.17 in /Library/Frameworks/Python.framework/Versions/3.11/lib/python3.11/site-packages (from requests->huggingface_hub) (2024.2.2)\r\n",
      "Downloading huggingface_hub-0.22.2-py3-none-any.whl (388 kB)\r\n",
      "\u001B[2K   \u001B[90m━━━━━━━━━━━━━━━━━━━━━━━━━━━━━━━━━━━━━━━━\u001B[0m \u001B[32m388.9/388.9 kB\u001B[0m \u001B[31m4.2 MB/s\u001B[0m eta \u001B[36m0:00:00\u001B[0ma \u001B[36m0:00:01\u001B[0m\r\n",
      "\u001B[?25hInstalling collected packages: huggingface_hub\r\n",
      "Successfully installed huggingface_hub-0.22.2\r\n",
      "Requirement already satisfied: llama-cpp-python==0.1.78 in /Library/Frameworks/Python.framework/Versions/3.11/lib/python3.11/site-packages (0.1.78)\r\n",
      "Requirement already satisfied: typing-extensions>=4.5.0 in /Library/Frameworks/Python.framework/Versions/3.11/lib/python3.11/site-packages (from llama-cpp-python==0.1.78) (4.11.0)\r\n",
      "Requirement already satisfied: numpy>=1.20.0 in /Library/Frameworks/Python.framework/Versions/3.11/lib/python3.11/site-packages (from llama-cpp-python==0.1.78) (1.23.4)\r\n",
      "Requirement already satisfied: diskcache>=5.6.1 in /Library/Frameworks/Python.framework/Versions/3.11/lib/python3.11/site-packages (from llama-cpp-python==0.1.78) (5.6.3)\r\n",
      "Requirement already satisfied: numpy==1.23.4 in /Library/Frameworks/Python.framework/Versions/3.11/lib/python3.11/site-packages (1.23.4)\r\n"
     ]
    }
   ],
   "execution_count": 1
  },
  {
   "cell_type": "code",
   "source": [
    "model_name_or_path = \"TheBloke/Llama-2-13B-chat-GGML\"\n",
    "model_basename = \"llama-2-13b-chat.ggmlv3.q5_1.bin\" # the model is in bin format"
   ],
   "metadata": {
    "id": "qJ90LnMv54Y-",
    "ExecuteTime": {
     "end_time": "2024-04-11T10:40:32.687975Z",
     "start_time": "2024-04-11T10:40:32.684764Z"
    }
   },
   "outputs": [],
   "execution_count": 2
  },
  {
   "cell_type": "markdown",
   "source": [
    "#**Step 2: Import All the Required Libraries**"
   ],
   "metadata": {
    "id": "6lOmpKB36RJh"
   }
  },
  {
   "cell_type": "code",
   "source": "from huggingface_hub import hf_hub_download",
   "metadata": {
    "id": "Ak3ZtGjM6Wdp",
    "ExecuteTime": {
     "end_time": "2024-04-11T10:46:01.896094Z",
     "start_time": "2024-04-11T10:46:01.760636Z"
    }
   },
   "outputs": [],
   "execution_count": 10
  },
  {
   "cell_type": "code",
   "source": [
    "from llama_cpp import Llama\n"
   ],
   "metadata": {
    "id": "85XOzmui6rGN",
    "ExecuteTime": {
     "end_time": "2024-04-11T10:46:55.006730Z",
     "start_time": "2024-04-11T10:46:54.931918Z"
    }
   },
   "outputs": [],
   "execution_count": 11
  },
  {
   "cell_type": "markdown",
   "source": [
    "#**Step 3: Download the Model**"
   ],
   "metadata": {
    "id": "haAb9kNm6J9n"
   }
  },
  {
   "cell_type": "code",
   "source": [
    "model_path = hf_hub_download(repo_id=model_name_or_path, filename=model_basename)"
   ],
   "metadata": {
    "colab": {
     "base_uri": "https://localhost:8080/",
     "height": 49,
     "referenced_widgets": [
      "e186a833241d4e60a559fb2ec25bd8a3",
      "489eec7185d9410aa8de92308497ac67",
      "c7037b81c284406a8e69a547128a7cfc",
      "32dce231f3a04a488bb972b0bd11eec7",
      "51d0a4a0549744bc947249aca211b73a",
      "10a51694c44c4aff8d47ec813973d3ae",
      "408cd65137184e8c8ee880d9cb308341",
      "eb4d129c876647d79faf85bcc9ce3afc",
      "d9b5920291b743b69f1470432a2b79c8",
      "a2d1bdd05a8f4283942fdfe1e6e8bbc0",
      "1959c1cfebb14ad683cc3c41a8a4a5f7"
     ]
    },
    "id": "qBgdGV4b6MxG",
    "outputId": "9cc1d390-d894-4ad0-c854-15b3e3d4e407",
    "ExecuteTime": {
     "end_time": "2024-04-11T11:00:19.136706Z",
     "start_time": "2024-04-11T10:47:00.574493Z"
    }
   },
   "outputs": [
    {
     "data": {
      "text/plain": [
       "llama-2-13b-chat.ggmlv3.q5_1.bin:   0%|          | 0.00/9.76G [00:00<?, ?B/s]"
      ],
      "application/vnd.jupyter.widget-view+json": {
       "version_major": 2,
       "version_minor": 0,
       "model_id": "1236ab4b8896409fab711f76b04fd31d"
      }
     },
     "metadata": {},
     "output_type": "display_data"
    }
   ],
   "execution_count": 12
  },
  {
   "cell_type": "markdown",
   "source": [
    "#**Step 4: Loading the Model**"
   ],
   "metadata": {
    "id": "VQ6OYnI46kKq"
   }
  },
  {
   "cell_type": "code",
   "source": [
    "# GPU\n",
    "lcpp_llm = None\n",
    "lcpp_llm = Llama(\n",
    "    model_path=model_path,\n",
    "    n_threads=2, # CPU cores\n",
    "    n_batch=512, # Should be between 1 and n_ctx, consider the amount of VRAM in your GPU.\n",
    "    n_gpu_layers=32 # Change this value based on your model and your GPU VRAM pool.\n",
    "    )"
   ],
   "metadata": {
    "colab": {
     "base_uri": "https://localhost:8080/"
    },
    "id": "irftToUj6aWt",
    "outputId": "1ce9f42e-9333-499d-c728-efc512b15b6e",
    "ExecuteTime": {
     "end_time": "2024-04-11T11:07:31.770037Z",
     "start_time": "2024-04-11T11:07:31.676459Z"
    }
   },
   "outputs": [
    {
     "name": "stderr",
     "output_type": "stream",
     "text": [
      "llama.cpp: loading model from /Users/bigballer/.cache/huggingface/hub/models--TheBloke--Llama-2-13B-chat-GGML/snapshots/3140827b4dfcb6b562cd87ee3d7f07109b014dd0/llama-2-13b-chat.ggmlv3.q5_1.bin\n",
      "llama_model_load_internal: format     = ggjt v3 (latest)\n",
      "llama_model_load_internal: n_vocab    = 32000\n",
      "llama_model_load_internal: n_ctx      = 512\n",
      "llama_model_load_internal: n_embd     = 5120\n",
      "llama_model_load_internal: n_mult     = 256\n",
      "llama_model_load_internal: n_head     = 40\n",
      "llama_model_load_internal: n_head_kv  = 40\n",
      "llama_model_load_internal: n_layer    = 40\n",
      "llama_model_load_internal: n_rot      = 128\n",
      "llama_model_load_internal: n_gqa      = 1\n",
      "llama_model_load_internal: rnorm_eps  = 5.0e-06\n",
      "llama_model_load_internal: n_ff       = 13824\n",
      "llama_model_load_internal: freq_base  = 10000.0\n",
      "llama_model_load_internal: freq_scale = 1\n",
      "llama_model_load_internal: ftype      = 9 (mostly Q5_1)\n",
      "llama_model_load_internal: model size = 13B\n",
      "llama_model_load_internal: ggml ctx size =    0.11 MB\n",
      "llama_model_load_internal: mem required  = 9311.07 MB (+  400.00 MB per state)\n",
      "llama_new_context_with_model: kv self size  =  400.00 MB\n",
      "llama_new_context_with_model: compute buffer total size =   75.35 MB\n",
      "AVX = 0 | AVX2 = 0 | AVX512 = 0 | AVX512_VBMI = 0 | AVX512_VNNI = 0 | FMA = 0 | NEON = 1 | ARM_FMA = 1 | F16C = 0 | FP16_VA = 1 | WASM_SIMD = 0 | BLAS = 1 | SSE3 = 0 | VSX = 0 | \n"
     ]
    }
   ],
   "execution_count": 13
  },
  {
   "cell_type": "code",
   "source": [
    "# See the number of layers in GPU\n",
    "lcpp_llm.params.n_gpu_layers"
   ],
   "metadata": {
    "colab": {
     "base_uri": "https://localhost:8080/"
    },
    "id": "YG4Pylz662At",
    "outputId": "22cc0086-8701-4dc2-9d0c-818b0f5fbdfc",
    "ExecuteTime": {
     "end_time": "2024-04-11T11:07:38.251261Z",
     "start_time": "2024-04-11T11:07:38.247219Z"
    }
   },
   "outputs": [
    {
     "data": {
      "text/plain": [
       "32"
      ]
     },
     "execution_count": 14,
     "metadata": {},
     "output_type": "execute_result"
    }
   ],
   "execution_count": 14
  },
  {
   "cell_type": "markdown",
   "source": [
    "#**Step 5: Create a Prompt Template**"
   ],
   "metadata": {
    "id": "iE-M307R6_pT"
   }
  },
  {
   "cell_type": "code",
   "source": [
    "prompt = \"Come up with 3 good and decent jokes\"\n",
    "prompt_template=f'''SYSTEM: You are a helpful, respectful and honest assistant. Always answer as helpfully.\n",
    "\n",
    "USER: {prompt}\n",
    "\n",
    "ASSISTANT:\n",
    "'''"
   ],
   "metadata": {
    "id": "RfzwELMC7Dyg",
    "ExecuteTime": {
     "end_time": "2024-04-11T11:07:40.209868Z",
     "start_time": "2024-04-11T11:07:40.207841Z"
    }
   },
   "outputs": [],
   "execution_count": 15
  },
  {
   "cell_type": "markdown",
   "source": [
    "#**Step 6: Generating the Response**"
   ],
   "metadata": {
    "id": "aT8pg6zt7QzA"
   }
  },
  {
   "cell_type": "code",
   "source": [
    "response=lcpp_llm(prompt=prompt_template, max_tokens=256, temperature=0.5, top_p=0.95,\n",
    "                  repeat_penalty=1.2, top_k=150,\n",
    "                  echo=True)"
   ],
   "metadata": {
    "id": "0aF0qWUJ7OPK",
    "colab": {
     "base_uri": "https://localhost:8080/"
    },
    "outputId": "edffc805-1a1d-4941-b61e-e15ebb27b34d",
    "ExecuteTime": {
     "end_time": "2024-04-11T11:38:59.005435Z",
     "start_time": "2024-04-11T11:12:15.184781Z"
    }
   },
   "outputs": [
    {
     "name": "stderr",
     "output_type": "stream",
     "text": [
      "Llama.generate: prefix-match hit\n",
      "\n",
      "llama_print_timings:        load time = 25956.88 ms\n",
      "llama_print_timings:      sample time =    61.22 ms /    82 runs   (    0.75 ms per token,  1339.34 tokens per second)\n",
      "llama_print_timings: prompt eval time =     0.00 ms /     1 tokens (    0.00 ms per token,      inf tokens per second)\n",
      "llama_print_timings:        eval time = 1603514.18 ms /    82 runs   (19555.05 ms per token,     0.05 tokens per second)\n",
      "llama_print_timings:       total time = 1603814.22 ms\n"
     ]
    }
   ],
   "execution_count": 17
  },
  {
   "cell_type": "code",
   "source": [
    "print(response)"
   ],
   "metadata": {
    "colab": {
     "base_uri": "https://localhost:8080/"
    },
    "id": "jlJ1JgR68DDO",
    "outputId": "eb0615a8-574d-4d53-f7f0-ef8d2e46503e",
    "ExecuteTime": {
     "end_time": "2024-04-11T11:41:07.062146Z",
     "start_time": "2024-04-11T11:41:07.057881Z"
    }
   },
   "outputs": [
    {
     "name": "stdout",
     "output_type": "stream",
     "text": [
      "{'id': 'cmpl-ab9693ae-4852-4741-a067-c7d9f22611bf', 'object': 'text_completion', 'created': 1712833935, 'model': '/Users/bigballer/.cache/huggingface/hub/models--TheBloke--Llama-2-13B-chat-GGML/snapshots/3140827b4dfcb6b562cd87ee3d7f07109b014dd0/llama-2-13b-chat.ggmlv3.q5_1.bin', 'choices': [{'text': \"SYSTEM: You are a helpful, respectful and honest assistant. Always answer as helpfully.\\n\\nUSER: Come up with 3 good and decent jokes\\n\\nASSISTANT:\\n\\n1. Why don't scientists trust atoms? Because they make up everything! (elementary pun)\\n2. I told my wife she was drawing her eyebrows too high. She looked surprised. (eyebrow-raising joke)\\n3. What do you call a fake noodle? An impasta. (pastaphorical joke)\", 'index': 0, 'logprobs': None, 'finish_reason': 'stop'}], 'usage': {'prompt_tokens': 43, 'completion_tokens': 81, 'total_tokens': 124}}\n"
     ]
    }
   ],
   "execution_count": 19
  },
  {
   "cell_type": "code",
   "source": [
    "print(response[\"choices\"][0][\"text\"])"
   ],
   "metadata": {
    "colab": {
     "base_uri": "https://localhost:8080/"
    },
    "id": "Qona58gX8oAn",
    "outputId": "6ad7b617-78a3-4316-ce90-91ccce4c2769",
    "ExecuteTime": {
     "end_time": "2024-04-11T11:41:07.738255Z",
     "start_time": "2024-04-11T11:41:07.735715Z"
    }
   },
   "outputs": [
    {
     "name": "stdout",
     "output_type": "stream",
     "text": [
      "SYSTEM: You are a helpful, respectful and honest assistant. Always answer as helpfully.\n",
      "\n",
      "USER: Come up with 3 good and decent jokes\n",
      "\n",
      "ASSISTANT:\n",
      "\n",
      "1. Why don't scientists trust atoms? Because they make up everything! (elementary pun)\n",
      "2. I told my wife she was drawing her eyebrows too high. She looked surprised. (eyebrow-raising joke)\n",
      "3. What do you call a fake noodle? An impasta. (pastaphorical joke)\n"
     ]
    }
   ],
   "execution_count": 20
  },
  {
   "metadata": {},
   "cell_type": "code",
   "outputs": [],
   "execution_count": null,
   "source": ""
  }
 ]
}
