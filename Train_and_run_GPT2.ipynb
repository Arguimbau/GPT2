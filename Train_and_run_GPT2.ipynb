{
 "nbformat": 4,
 "nbformat_minor": 0,
 "metadata": {
  "colab": {
   "provenance": [],
   "gpuType": "T4"
  },
  "kernelspec": {
   "name": "python3",
   "display_name": "Python 3 (ipykernel)",
   "language": "python"
  },
  "language_info": {
   "name": "python"
  },
  "accelerator": "GPU"
 },
 "cells": [
  {
   "cell_type": "markdown",
   "source": [
    "https://huggingface.co/"
   ],
   "metadata": {
    "id": "uIcX4zIWMhHa"
   }
  },
  {
   "cell_type": "markdown",
   "source": [
    "# Før træning:\n",
    "*prompt = \"because he runs about making mischief, and telling tales\"*\n",
    "\n",
    "because he runs about making mischief, and telling tales of his own adventures.\n",
    "The story is told in the form that a young man named John (played by actor Michael Caine)\n",
    "has been kidnapped from an unknown location on Earth where there are no humans to protect\n",
    "him or anyone else who might be involved. He's taken with some otherworldly beings called\n",
    "\"the Guardians\" but they're not real people so it seems like this guy isn't really\n",
    "interested at all when things go wrong for them as\n",
    "\n",
    "# Efter træning:\n",
    "*prompt = \"because he runs about making mischief, and telling tales\"*\n",
    "\n",
    "because he runs about making mischief, and telling tales of the\n",
    "great beasts that hunt him.” He was a man who had never been to any place where there were no elephants or wolves in his line; but when Mowgli came down from camp with all four seals at their feet (and they did not know what it meant), Bagheera told them: “I am going out into this world for my own sake--for I have seen many things which are very foolish\n"
   ],
   "metadata": {
    "id": "RdAgIPtxXAu5"
   }
  },
  {
   "cell_type": "code",
   "execution_count": null,
   "metadata": {
    "id": "tXwM04Rm0VA2",
    "colab": {
     "base_uri": "https://localhost:8080/"
    },
    "outputId": "2fb86b75-24cf-4b12-e839-1b48b1aecc59"
   },
   "outputs": [
    {
     "output_type": "stream",
     "name": "stdout",
     "text": [
      "--2024-04-11 11:12:54--  https://raw.githubusercontent.com/jakupwhansen/Public_Files/main/the_jungle_book.txt\n",
      "Resolving raw.githubusercontent.com (raw.githubusercontent.com)... 185.199.108.133, 185.199.109.133, 185.199.110.133, ...\n",
      "Connecting to raw.githubusercontent.com (raw.githubusercontent.com)|185.199.108.133|:443... connected.\n",
      "HTTP request sent, awaiting response... 200 OK\n",
      "Length: 304371 (297K) [text/plain]\n",
      "Saving to: ‘the_jungle_book.txt’\n",
      "\n",
      "\rthe_jungle_book.txt   0%[                    ]       0  --.-KB/s               \rthe_jungle_book.txt 100%[===================>] 297.24K  --.-KB/s    in 0.02s   \n",
      "\n",
      "2024-04-11 11:12:54 (12.8 MB/s) - ‘the_jungle_book.txt’ saved [304371/304371]\n",
      "\n"
     ]
    }
   ],
   "source": "#!wget https://raw.githubusercontent.com/jakupwhansen/Public_Files/main/the_jungle_book.txt -O the_jungle_book.txt"
  },
  {
   "cell_type": "code",
   "source": [
    "with open(\"txt/test.txt\", \"r\", encoding=\"utf-8\") as file:\n",
    "    text = file.read()\n",
    "\n",
    "# Simple preprocessing: split the text into chunks if needed\n",
    "# For demonstration, let's just use the full text as is\n"
   ],
   "metadata": {
    "id": "IbRZGOZ00ZdH",
    "ExecuteTime": {
     "end_time": "2024-04-16T06:48:52.002072Z",
     "start_time": "2024-04-16T06:48:51.996942Z"
    }
   },
   "outputs": [],
   "execution_count": 1
  },
  {
   "cell_type": "code",
   "source": [
    "# Ensure necessary libraries are installed and updated\n",
    "!pip install --upgrade pip\n",
    "!pip install accelerate -U\n",
    "!pip install transformers datasets -U\n",
    "\n",
    "# Your code for loading the dataset, initializing the model, tokenizer, and trainer follows here\n"
   ],
   "metadata": {
    "id": "YZ6FyaFM1ZYJ",
    "colab": {
     "base_uri": "https://localhost:8080/"
    },
    "outputId": "82b781e5-4a66-4b3b-b36a-8b9c8c254039",
    "ExecuteTime": {
     "end_time": "2024-04-16T06:49:18.658615Z",
     "start_time": "2024-04-16T06:49:14.467877Z"
    }
   },
   "outputs": [
    {
     "name": "stdout",
     "output_type": "stream",
     "text": [
      "Requirement already satisfied: pip in ./.venv/lib/python3.10/site-packages (23.2.1)\r\n",
      "Collecting pip\r\n",
      "  Obtaining dependency information for pip from https://files.pythonhosted.org/packages/8a/6a/19e9fe04fca059ccf770861c7d5721ab4c2aebc539889e97c7977528a53b/pip-24.0-py3-none-any.whl.metadata\r\n",
      "  Using cached pip-24.0-py3-none-any.whl.metadata (3.6 kB)\r\n",
      "Using cached pip-24.0-py3-none-any.whl (2.1 MB)\r\n",
      "Installing collected packages: pip\r\n",
      "  Attempting uninstall: pip\r\n",
      "    Found existing installation: pip 23.2.1\r\n",
      "    Uninstalling pip-23.2.1:\r\n",
      "      Successfully uninstalled pip-23.2.1\r\n",
      "Successfully installed pip-24.0\r\n",
      "Requirement already satisfied: accelerate in ./.venv/lib/python3.10/site-packages (0.29.2)\r\n",
      "Requirement already satisfied: numpy>=1.17 in ./.venv/lib/python3.10/site-packages (from accelerate) (1.26.4)\r\n",
      "Requirement already satisfied: packaging>=20.0 in ./.venv/lib/python3.10/site-packages (from accelerate) (24.0)\r\n",
      "Requirement already satisfied: psutil in ./.venv/lib/python3.10/site-packages (from accelerate) (5.9.8)\r\n",
      "Requirement already satisfied: pyyaml in ./.venv/lib/python3.10/site-packages (from accelerate) (6.0.1)\r\n",
      "Requirement already satisfied: torch>=1.10.0 in ./.venv/lib/python3.10/site-packages (from accelerate) (2.2.2)\r\n",
      "Requirement already satisfied: huggingface-hub in ./.venv/lib/python3.10/site-packages (from accelerate) (0.22.2)\r\n",
      "Requirement already satisfied: safetensors>=0.3.1 in ./.venv/lib/python3.10/site-packages (from accelerate) (0.4.2)\r\n",
      "Requirement already satisfied: filelock in ./.venv/lib/python3.10/site-packages (from torch>=1.10.0->accelerate) (3.13.4)\r\n",
      "Requirement already satisfied: typing-extensions>=4.8.0 in ./.venv/lib/python3.10/site-packages (from torch>=1.10.0->accelerate) (4.11.0)\r\n",
      "Requirement already satisfied: sympy in ./.venv/lib/python3.10/site-packages (from torch>=1.10.0->accelerate) (1.12)\r\n",
      "Requirement already satisfied: networkx in ./.venv/lib/python3.10/site-packages (from torch>=1.10.0->accelerate) (3.3)\r\n",
      "Requirement already satisfied: jinja2 in ./.venv/lib/python3.10/site-packages (from torch>=1.10.0->accelerate) (3.1.3)\r\n",
      "Requirement already satisfied: fsspec in ./.venv/lib/python3.10/site-packages (from torch>=1.10.0->accelerate) (2024.2.0)\r\n",
      "Requirement already satisfied: requests in ./.venv/lib/python3.10/site-packages (from huggingface-hub->accelerate) (2.31.0)\r\n",
      "Requirement already satisfied: tqdm>=4.42.1 in ./.venv/lib/python3.10/site-packages (from huggingface-hub->accelerate) (4.66.2)\r\n",
      "Requirement already satisfied: MarkupSafe>=2.0 in ./.venv/lib/python3.10/site-packages (from jinja2->torch>=1.10.0->accelerate) (2.1.5)\r\n",
      "Requirement already satisfied: charset-normalizer<4,>=2 in ./.venv/lib/python3.10/site-packages (from requests->huggingface-hub->accelerate) (3.3.2)\r\n",
      "Requirement already satisfied: idna<4,>=2.5 in ./.venv/lib/python3.10/site-packages (from requests->huggingface-hub->accelerate) (3.7)\r\n",
      "Requirement already satisfied: urllib3<3,>=1.21.1 in ./.venv/lib/python3.10/site-packages (from requests->huggingface-hub->accelerate) (2.2.1)\r\n",
      "Requirement already satisfied: certifi>=2017.4.17 in ./.venv/lib/python3.10/site-packages (from requests->huggingface-hub->accelerate) (2024.2.2)\r\n",
      "Requirement already satisfied: mpmath>=0.19 in ./.venv/lib/python3.10/site-packages (from sympy->torch>=1.10.0->accelerate) (1.3.0)\r\n",
      "Requirement already satisfied: transformers in ./.venv/lib/python3.10/site-packages (4.39.3)\r\n",
      "Requirement already satisfied: datasets in ./.venv/lib/python3.10/site-packages (2.18.0)\r\n",
      "Requirement already satisfied: filelock in ./.venv/lib/python3.10/site-packages (from transformers) (3.13.4)\r\n",
      "Requirement already satisfied: huggingface-hub<1.0,>=0.19.3 in ./.venv/lib/python3.10/site-packages (from transformers) (0.22.2)\r\n",
      "Requirement already satisfied: numpy>=1.17 in ./.venv/lib/python3.10/site-packages (from transformers) (1.26.4)\r\n",
      "Requirement already satisfied: packaging>=20.0 in ./.venv/lib/python3.10/site-packages (from transformers) (24.0)\r\n",
      "Requirement already satisfied: pyyaml>=5.1 in ./.venv/lib/python3.10/site-packages (from transformers) (6.0.1)\r\n",
      "Requirement already satisfied: regex!=2019.12.17 in ./.venv/lib/python3.10/site-packages (from transformers) (2023.12.25)\r\n",
      "Requirement already satisfied: requests in ./.venv/lib/python3.10/site-packages (from transformers) (2.31.0)\r\n",
      "Requirement already satisfied: tokenizers<0.19,>=0.14 in ./.venv/lib/python3.10/site-packages (from transformers) (0.15.2)\r\n",
      "Requirement already satisfied: safetensors>=0.4.1 in ./.venv/lib/python3.10/site-packages (from transformers) (0.4.2)\r\n",
      "Requirement already satisfied: tqdm>=4.27 in ./.venv/lib/python3.10/site-packages (from transformers) (4.66.2)\r\n",
      "Requirement already satisfied: pyarrow>=12.0.0 in ./.venv/lib/python3.10/site-packages (from datasets) (15.0.2)\r\n",
      "Requirement already satisfied: pyarrow-hotfix in ./.venv/lib/python3.10/site-packages (from datasets) (0.6)\r\n",
      "Requirement already satisfied: dill<0.3.9,>=0.3.0 in ./.venv/lib/python3.10/site-packages (from datasets) (0.3.8)\r\n",
      "Requirement already satisfied: pandas in ./.venv/lib/python3.10/site-packages (from datasets) (2.2.2)\r\n",
      "Requirement already satisfied: xxhash in ./.venv/lib/python3.10/site-packages (from datasets) (3.4.1)\r\n",
      "Requirement already satisfied: multiprocess in ./.venv/lib/python3.10/site-packages (from datasets) (0.70.16)\r\n",
      "Requirement already satisfied: fsspec<=2024.2.0,>=2023.1.0 in ./.venv/lib/python3.10/site-packages (from fsspec[http]<=2024.2.0,>=2023.1.0->datasets) (2024.2.0)\r\n",
      "Requirement already satisfied: aiohttp in ./.venv/lib/python3.10/site-packages (from datasets) (3.9.4)\r\n",
      "Requirement already satisfied: aiosignal>=1.1.2 in ./.venv/lib/python3.10/site-packages (from aiohttp->datasets) (1.3.1)\r\n",
      "Requirement already satisfied: attrs>=17.3.0 in ./.venv/lib/python3.10/site-packages (from aiohttp->datasets) (23.2.0)\r\n",
      "Requirement already satisfied: frozenlist>=1.1.1 in ./.venv/lib/python3.10/site-packages (from aiohttp->datasets) (1.4.1)\r\n",
      "Requirement already satisfied: multidict<7.0,>=4.5 in ./.venv/lib/python3.10/site-packages (from aiohttp->datasets) (6.0.5)\r\n",
      "Requirement already satisfied: yarl<2.0,>=1.0 in ./.venv/lib/python3.10/site-packages (from aiohttp->datasets) (1.9.4)\r\n",
      "Requirement already satisfied: async-timeout<5.0,>=4.0 in ./.venv/lib/python3.10/site-packages (from aiohttp->datasets) (4.0.3)\r\n",
      "Requirement already satisfied: typing-extensions>=3.7.4.3 in ./.venv/lib/python3.10/site-packages (from huggingface-hub<1.0,>=0.19.3->transformers) (4.11.0)\r\n",
      "Requirement already satisfied: charset-normalizer<4,>=2 in ./.venv/lib/python3.10/site-packages (from requests->transformers) (3.3.2)\r\n",
      "Requirement already satisfied: idna<4,>=2.5 in ./.venv/lib/python3.10/site-packages (from requests->transformers) (3.7)\r\n",
      "Requirement already satisfied: urllib3<3,>=1.21.1 in ./.venv/lib/python3.10/site-packages (from requests->transformers) (2.2.1)\r\n",
      "Requirement already satisfied: certifi>=2017.4.17 in ./.venv/lib/python3.10/site-packages (from requests->transformers) (2024.2.2)\r\n",
      "Requirement already satisfied: python-dateutil>=2.8.2 in ./.venv/lib/python3.10/site-packages (from pandas->datasets) (2.9.0.post0)\r\n",
      "Requirement already satisfied: pytz>=2020.1 in ./.venv/lib/python3.10/site-packages (from pandas->datasets) (2024.1)\r\n",
      "Requirement already satisfied: tzdata>=2022.7 in ./.venv/lib/python3.10/site-packages (from pandas->datasets) (2024.1)\r\n",
      "Requirement already satisfied: six>=1.5 in ./.venv/lib/python3.10/site-packages (from python-dateutil>=2.8.2->pandas->datasets) (1.16.0)\r\n"
     ]
    }
   ],
   "execution_count": 3
  },
  {
   "metadata": {
    "ExecuteTime": {
     "end_time": "2024-04-16T06:49:25.278806Z",
     "start_time": "2024-04-16T06:49:23.251574Z"
    }
   },
   "cell_type": "code",
   "source": [
    "!pip install \"accelerate>=0.21.0\" -U\n",
    "!pip install \"transformers[torch]\" -U"
   ],
   "outputs": [
    {
     "name": "stdout",
     "output_type": "stream",
     "text": [
      "Requirement already satisfied: accelerate>=0.21.0 in ./.venv/lib/python3.10/site-packages (0.29.2)\r\n",
      "Requirement already satisfied: numpy>=1.17 in ./.venv/lib/python3.10/site-packages (from accelerate>=0.21.0) (1.26.4)\r\n",
      "Requirement already satisfied: packaging>=20.0 in ./.venv/lib/python3.10/site-packages (from accelerate>=0.21.0) (24.0)\r\n",
      "Requirement already satisfied: psutil in ./.venv/lib/python3.10/site-packages (from accelerate>=0.21.0) (5.9.8)\r\n",
      "Requirement already satisfied: pyyaml in ./.venv/lib/python3.10/site-packages (from accelerate>=0.21.0) (6.0.1)\r\n",
      "Requirement already satisfied: torch>=1.10.0 in ./.venv/lib/python3.10/site-packages (from accelerate>=0.21.0) (2.2.2)\r\n",
      "Requirement already satisfied: huggingface-hub in ./.venv/lib/python3.10/site-packages (from accelerate>=0.21.0) (0.22.2)\r\n",
      "Requirement already satisfied: safetensors>=0.3.1 in ./.venv/lib/python3.10/site-packages (from accelerate>=0.21.0) (0.4.2)\r\n",
      "Requirement already satisfied: filelock in ./.venv/lib/python3.10/site-packages (from torch>=1.10.0->accelerate>=0.21.0) (3.13.4)\r\n",
      "Requirement already satisfied: typing-extensions>=4.8.0 in ./.venv/lib/python3.10/site-packages (from torch>=1.10.0->accelerate>=0.21.0) (4.11.0)\r\n",
      "Requirement already satisfied: sympy in ./.venv/lib/python3.10/site-packages (from torch>=1.10.0->accelerate>=0.21.0) (1.12)\r\n",
      "Requirement already satisfied: networkx in ./.venv/lib/python3.10/site-packages (from torch>=1.10.0->accelerate>=0.21.0) (3.3)\r\n",
      "Requirement already satisfied: jinja2 in ./.venv/lib/python3.10/site-packages (from torch>=1.10.0->accelerate>=0.21.0) (3.1.3)\r\n",
      "Requirement already satisfied: fsspec in ./.venv/lib/python3.10/site-packages (from torch>=1.10.0->accelerate>=0.21.0) (2024.2.0)\r\n",
      "Requirement already satisfied: requests in ./.venv/lib/python3.10/site-packages (from huggingface-hub->accelerate>=0.21.0) (2.31.0)\r\n",
      "Requirement already satisfied: tqdm>=4.42.1 in ./.venv/lib/python3.10/site-packages (from huggingface-hub->accelerate>=0.21.0) (4.66.2)\r\n",
      "Requirement already satisfied: MarkupSafe>=2.0 in ./.venv/lib/python3.10/site-packages (from jinja2->torch>=1.10.0->accelerate>=0.21.0) (2.1.5)\r\n",
      "Requirement already satisfied: charset-normalizer<4,>=2 in ./.venv/lib/python3.10/site-packages (from requests->huggingface-hub->accelerate>=0.21.0) (3.3.2)\r\n",
      "Requirement already satisfied: idna<4,>=2.5 in ./.venv/lib/python3.10/site-packages (from requests->huggingface-hub->accelerate>=0.21.0) (3.7)\r\n",
      "Requirement already satisfied: urllib3<3,>=1.21.1 in ./.venv/lib/python3.10/site-packages (from requests->huggingface-hub->accelerate>=0.21.0) (2.2.1)\r\n",
      "Requirement already satisfied: certifi>=2017.4.17 in ./.venv/lib/python3.10/site-packages (from requests->huggingface-hub->accelerate>=0.21.0) (2024.2.2)\r\n",
      "Requirement already satisfied: mpmath>=0.19 in ./.venv/lib/python3.10/site-packages (from sympy->torch>=1.10.0->accelerate>=0.21.0) (1.3.0)\r\n",
      "Requirement already satisfied: transformers[torch] in ./.venv/lib/python3.10/site-packages (4.39.3)\r\n",
      "Requirement already satisfied: filelock in ./.venv/lib/python3.10/site-packages (from transformers[torch]) (3.13.4)\r\n",
      "Requirement already satisfied: huggingface-hub<1.0,>=0.19.3 in ./.venv/lib/python3.10/site-packages (from transformers[torch]) (0.22.2)\r\n",
      "Requirement already satisfied: numpy>=1.17 in ./.venv/lib/python3.10/site-packages (from transformers[torch]) (1.26.4)\r\n",
      "Requirement already satisfied: packaging>=20.0 in ./.venv/lib/python3.10/site-packages (from transformers[torch]) (24.0)\r\n",
      "Requirement already satisfied: pyyaml>=5.1 in ./.venv/lib/python3.10/site-packages (from transformers[torch]) (6.0.1)\r\n",
      "Requirement already satisfied: regex!=2019.12.17 in ./.venv/lib/python3.10/site-packages (from transformers[torch]) (2023.12.25)\r\n",
      "Requirement already satisfied: requests in ./.venv/lib/python3.10/site-packages (from transformers[torch]) (2.31.0)\r\n",
      "Requirement already satisfied: tokenizers<0.19,>=0.14 in ./.venv/lib/python3.10/site-packages (from transformers[torch]) (0.15.2)\r\n",
      "Requirement already satisfied: safetensors>=0.4.1 in ./.venv/lib/python3.10/site-packages (from transformers[torch]) (0.4.2)\r\n",
      "Requirement already satisfied: tqdm>=4.27 in ./.venv/lib/python3.10/site-packages (from transformers[torch]) (4.66.2)\r\n",
      "Requirement already satisfied: torch in ./.venv/lib/python3.10/site-packages (from transformers[torch]) (2.2.2)\r\n",
      "Requirement already satisfied: accelerate>=0.21.0 in ./.venv/lib/python3.10/site-packages (from transformers[torch]) (0.29.2)\r\n",
      "Requirement already satisfied: psutil in ./.venv/lib/python3.10/site-packages (from accelerate>=0.21.0->transformers[torch]) (5.9.8)\r\n",
      "Requirement already satisfied: fsspec>=2023.5.0 in ./.venv/lib/python3.10/site-packages (from huggingface-hub<1.0,>=0.19.3->transformers[torch]) (2024.2.0)\r\n",
      "Requirement already satisfied: typing-extensions>=3.7.4.3 in ./.venv/lib/python3.10/site-packages (from huggingface-hub<1.0,>=0.19.3->transformers[torch]) (4.11.0)\r\n",
      "Requirement already satisfied: sympy in ./.venv/lib/python3.10/site-packages (from torch->transformers[torch]) (1.12)\r\n",
      "Requirement already satisfied: networkx in ./.venv/lib/python3.10/site-packages (from torch->transformers[torch]) (3.3)\r\n",
      "Requirement already satisfied: jinja2 in ./.venv/lib/python3.10/site-packages (from torch->transformers[torch]) (3.1.3)\r\n",
      "Requirement already satisfied: charset-normalizer<4,>=2 in ./.venv/lib/python3.10/site-packages (from requests->transformers[torch]) (3.3.2)\r\n",
      "Requirement already satisfied: idna<4,>=2.5 in ./.venv/lib/python3.10/site-packages (from requests->transformers[torch]) (3.7)\r\n",
      "Requirement already satisfied: urllib3<3,>=1.21.1 in ./.venv/lib/python3.10/site-packages (from requests->transformers[torch]) (2.2.1)\r\n",
      "Requirement already satisfied: certifi>=2017.4.17 in ./.venv/lib/python3.10/site-packages (from requests->transformers[torch]) (2024.2.2)\r\n",
      "Requirement already satisfied: MarkupSafe>=2.0 in ./.venv/lib/python3.10/site-packages (from jinja2->torch->transformers[torch]) (2.1.5)\r\n",
      "Requirement already satisfied: mpmath>=0.19 in ./.venv/lib/python3.10/site-packages (from sympy->torch->transformers[torch]) (1.3.0)\r\n"
     ]
    }
   ],
   "execution_count": 4
  },
  {
   "cell_type": "code",
   "source": [
    "from transformers import GPT2Tokenizer, GPT2LMHeadModel, TextDataset, DataCollatorForLanguageModeling, Trainer, TrainingArguments\n",
    "import torch\n",
    "\n",
    "# Assuming you're using a GPT-2 model and tokenizer\n",
    "tokenizer = GPT2Tokenizer.from_pretrained('gpt2')\n",
    "\n",
    "# Ensure the tokenizer recognizes a pad token\n",
    "if tokenizer.pad_token is None:\n",
    "    tokenizer.pad_token = tokenizer.eos_token\n",
    "\n",
    "model = GPT2LMHeadModel.from_pretrained('gpt2')\n",
    "model.config.pad_token_id = tokenizer.convert_tokens_to_ids(tokenizer.pad_token)\n",
    "\n",
    "# Example preprocessing of your text\n",
    "# Let's assume 'text' is a string containing the content of \"The Jungle Book\"\n",
    "\n",
    "text_file = 'txt/odessy.txt' # You need to download the book text and specify its local path here\n",
    "\n",
    "# Create a dataset and a data collator for language modeling\n",
    "dataset = TextDataset(\n",
    "    tokenizer=tokenizer,\n",
    "    file_path=text_file,\n",
    "    block_size=128  # Adjust based on your model and preferences\n",
    ")\n",
    "\n",
    "data_collator = DataCollatorForLanguageModeling(\n",
    "    tokenizer=tokenizer,\n",
    "    mlm=False  # For causal (not masked) language modeling\n",
    ")\n",
    "\n",
    "# Training arguments\n",
    "training_args = TrainingArguments(\n",
    "    output_dir='./results',          # Where to store the training outputs\n",
    "    overwrite_output_dir=True,\n",
    "    num_train_epochs=3,              # Number of epochs (adjust as needed)\n",
    "    per_device_train_batch_size=4,   # Batch size (adjust based on your GPU)\n",
    "    save_steps=10_000,               # Save the model every 10,000 steps\n",
    "    save_total_limit=2,              # Only keep the 2 most recent checkpoints\n",
    ")\n",
    "\n",
    "# Initialize Trainer\n",
    "trainer = Trainer(\n",
    "    model=model,\n",
    "    args=training_args,\n",
    "    data_collator=data_collator,\n",
    "    train_dataset=dataset,\n",
    ")\n",
    "\n",
    "# Start training. Hvis den lukkes, så bruges pre-trained\n",
    "# modellen, og det fungerer fint\n",
    "trainer.train()\n",
    "\n",
    "# Save the trained model\n",
    "model.save_pretrained('./your_trained_model')\n",
    "tokenizer.save_pretrained('./your_trained_model')\n"
   ],
   "metadata": {
    "id": "0s6odqCK1CfK",
    "ExecuteTime": {
     "end_time": "2024-04-16T07:00:31.063530Z",
     "start_time": "2024-04-16T06:49:37.708391Z"
    }
   },
   "outputs": [
    {
     "name": "stderr",
     "output_type": "stream",
     "text": [
      "/Users/bigballer/Google Drive/Skole/Erhversakedami/SchoolProjects/MyChatGPT/.venv/lib/python3.10/site-packages/transformers/data/datasets/language_modeling.py:53: FutureWarning: This dataset will be removed from the library soon, preprocessing should be handled with the 🤗 Datasets library. You can have a look at this example script for pointers: https://github.com/huggingface/transformers/blob/main/examples/pytorch/language-modeling/run_mlm.py\n",
      "  warnings.warn(\n",
      "/Users/bigballer/Google Drive/Skole/Erhversakedami/SchoolProjects/MyChatGPT/.venv/lib/python3.10/site-packages/accelerate/accelerator.py:436: FutureWarning: Passing the following arguments to `Accelerator` is deprecated and will be removed in version 1.0 of Accelerate: dict_keys(['dispatch_batches', 'split_batches', 'even_batches', 'use_seedable_sampler']). Please pass an `accelerate.DataLoaderConfiguration` instead: \n",
      "dataloader_config = DataLoaderConfiguration(dispatch_batches=None, split_batches=False, even_batches=True, use_seedable_sampler=True)\n",
      "  warnings.warn(\n"
     ]
    },
    {
     "data": {
      "text/plain": [
       "<IPython.core.display.HTML object>"
      ],
      "text/html": [
       "\n",
       "    <div>\n",
       "      \n",
       "      <progress value='1158' max='1158' style='width:300px; height:20px; vertical-align: middle;'></progress>\n",
       "      [1158/1158 10:45, Epoch 3/3]\n",
       "    </div>\n",
       "    <table border=\"1\" class=\"dataframe\">\n",
       "  <thead>\n",
       " <tr style=\"text-align: left;\">\n",
       "      <th>Step</th>\n",
       "      <th>Training Loss</th>\n",
       "    </tr>\n",
       "  </thead>\n",
       "  <tbody>\n",
       "    <tr>\n",
       "      <td>500</td>\n",
       "      <td>3.719200</td>\n",
       "    </tr>\n",
       "    <tr>\n",
       "      <td>1000</td>\n",
       "      <td>2.481400</td>\n",
       "    </tr>\n",
       "  </tbody>\n",
       "</table><p>"
      ]
     },
     "metadata": {},
     "output_type": "display_data"
    },
    {
     "data": {
      "text/plain": [
       "('./your_trained_model/tokenizer_config.json',\n",
       " './your_trained_model/special_tokens_map.json',\n",
       " './your_trained_model/vocab.json',\n",
       " './your_trained_model/merges.txt',\n",
       " './your_trained_model/added_tokens.json')"
      ]
     },
     "execution_count": 5,
     "metadata": {},
     "output_type": "execute_result"
    }
   ],
   "execution_count": 5
  },
  {
   "cell_type": "markdown",
   "source": [
    "## **Så er modellen trænet med min egen text. Nu skal vi bruge modellen**"
   ],
   "metadata": {
    "id": "FjwU6cE0KuJU"
   }
  },
  {
   "cell_type": "code",
   "source": [
    "from transformers import GPT2LMHeadModel, GPT2Tokenizer\n",
    "\n",
    "# Jeg har gemt min trænet model i drive under /public/your_trained_model/\n",
    "model_path = './your_trained_model'  # Update this to your model's directory\n",
    "\n",
    "tokenizer = GPT2Tokenizer.from_pretrained(model_path)\n",
    "model = GPT2LMHeadModel.from_pretrained(model_path)\n"
   ],
   "metadata": {
    "id": "3r8jMbc4K3z3",
    "ExecuteTime": {
     "end_time": "2024-04-16T07:50:17.105313Z",
     "start_time": "2024-04-16T07:50:16.330918Z"
    }
   },
   "outputs": [],
   "execution_count": 39
  },
  {
   "cell_type": "code",
   "source": [
    "instruction = (\"Before you answer the question you must follow these intructions: \" +\n",
    "               \"1. Read the question carefully. \" +\n",
    "               \"2. Think about the answer. \" +\n",
    "               \"3. Only answer the question asked. \" +\n",
    "               \"4. Do not provide any additional information. \" +\n",
    "               \"5. Do not ask any questions. \" + \"Here is the question: \")\n",
    "\n",
    "\n",
    "prompt = \"What is the capital of Denmark?\"  # Example 1 prompt\n",
    "#prompt = \"because he runs about making mischief, and telling tales\"  # Example 2 prompt\n",
    "\n"
   ],
   "metadata": {
    "id": "lBCyqXpWLDDw",
    "ExecuteTime": {
     "end_time": "2024-04-16T07:50:17.731169Z",
     "start_time": "2024-04-16T07:50:17.728116Z"
    }
   },
   "outputs": [],
   "execution_count": 40
  },
  {
   "cell_type": "code",
   "source": "input_ids = tokenizer.encode(prompt, return_tensors='pt')",
   "metadata": {
    "id": "vQHjrAb8LGBC",
    "ExecuteTime": {
     "end_time": "2024-04-16T07:50:19.525339Z",
     "start_time": "2024-04-16T07:50:19.521466Z"
    }
   },
   "outputs": [],
   "execution_count": 41
  },
  {
   "cell_type": "code",
   "source": [
    "# Generate text\n",
    "output_sequences = model.generate(\n",
    "    input_ids=input_ids,\n",
    "    max_length=100,  # Maximum length of the generated text\n",
    "    num_return_sequences=1,  # Number of generated sequences\n",
    "    temperature=0.7,  # Sampling temperature\n",
    "    top_k=50,  # Only consider the top k tokens at each step\n",
    "    top_p=0.9,  # Nucleus sampling\n",
    "    repetition_penalty=1.2,  # Penalty for repetition\n",
    ")\n",
    "\n",
    "# Decode the generated text\n",
    "generated_text = tokenizer.decode(output_sequences[0], skip_special_tokens=True)\n",
    "\n",
    "# Remove the instruction from the generated text\n",
    "generated_text = generated_text.replace(instruction, '')\n",
    "\n",
    "print(generated_text)"
   ],
   "metadata": {
    "colab": {
     "base_uri": "https://localhost:8080/"
    },
    "id": "PvRzZNNbLH-a",
    "outputId": "eaf5e923-53e0-41f1-9c98-771c3ec2f399",
    "ExecuteTime": {
     "end_time": "2024-04-16T07:50:22.161704Z",
     "start_time": "2024-04-16T07:50:20.328110Z"
    }
   },
   "outputs": [
    {
     "name": "stderr",
     "output_type": "stream",
     "text": [
      "The attention mask and the pad token id were not set. As a consequence, you may observe unexpected behavior. Please pass your input's `attention_mask` to obtain reliable results.\n",
      "Setting `pad_token_id` to `eos_token_id`:50256 for open-end generation.\n"
     ]
    },
    {
     "name": "stdout",
     "output_type": "stream",
     "text": [
      "What is the capital of Denmark?\n",
      "The state: The country has a total debt to pay. In order for it to be paid, there must have been some kind (the national treasury) or something like that; and if this was not sufficient then what would you want from us in return! If we could raise our own foreign aid by way of military force than just one-fifth as much with all its domestic expenses alone can provide without resorting to martial law at once—but only on\n"
     ]
    }
   ],
   "execution_count": 42
  },
  {
   "metadata": {},
   "cell_type": "code",
   "outputs": [],
   "execution_count": null,
   "source": ""
  }
 ]
}
